{
 "cells": [
  {
   "cell_type": "markdown",
   "id": "01ea635f-1030-45e7-a9e3-b1ccd2920e08",
   "metadata": {},
   "source": [
    "# WS_follow_along_nanogpt.ipynb\n",
    "# WESmith 06/10/23\n",
    "## follow along with Karpathy video\n",
    "## https://www.youtube.com/watch?v=kCc8FmEb1nY"
   ]
  },
  {
   "cell_type": "code",
   "execution_count": null,
   "id": "75a1c64e-95cc-410d-a983-d01a0df9c337",
   "metadata": {},
   "outputs": [],
   "source": [
    "import torch\n",
    "import torch.nn as nn\n",
    "from   torch.nn import functional as F"
   ]
  },
  {
   "cell_type": "raw",
   "id": "d2778167-60b7-4039-8dd0-0ae208b203a3",
   "metadata": {},
   "source": [
    "# this worked, got input.txt\n",
    "!wget https://raw.githubusercontent.com/karpathy/char-rnn/master/data/tinyshakespeare/input.txt"
   ]
  },
  {
   "cell_type": "code",
   "execution_count": null,
   "id": "97e7d379-cafd-4fa2-974a-c50c0d4309ca",
   "metadata": {},
   "outputs": [],
   "source": [
    "# hyperparameters\n",
    "batch_size = 32\n",
    "block_size = 8\n",
    "max_iters  = 5000\n",
    "eval_interval = 500\n",
    "learning_rate = 1e-3\n",
    "device     = 'cpu'\n",
    "eval_iters = 200\n",
    "n_embd     = 32\n",
    "seed       = 1337"
   ]
  },
  {
   "cell_type": "code",
   "execution_count": null,
   "id": "8fd0d167-3aa7-4e64-8298-67f9b5b999a1",
   "metadata": {},
   "outputs": [],
   "source": [
    "with open('input.txt', 'r', encoding='utf-8') as f:\n",
    "    text = f.read()"
   ]
  },
  {
   "cell_type": "code",
   "execution_count": null,
   "id": "8a021d2b-72ce-4af3-923a-c7cf28ca8c53",
   "metadata": {},
   "outputs": [],
   "source": [
    "len(text)"
   ]
  },
  {
   "cell_type": "code",
   "execution_count": null,
   "id": "29854adf-e9bb-4d4e-ad83-525763261eb0",
   "metadata": {
    "tags": []
   },
   "outputs": [],
   "source": [
    "print(text[:200])"
   ]
  },
  {
   "cell_type": "code",
   "execution_count": null,
   "id": "994edb5b-8e91-4c41-942d-31e8c81c76ce",
   "metadata": {},
   "outputs": [],
   "source": [
    "chars = sorted(list(set(text)))\n",
    "vocab_size = len(chars)\n",
    "print(''.join(chars))\n",
    "print(vocab_size)"
   ]
  },
  {
   "cell_type": "code",
   "execution_count": null,
   "id": "a93ec2a0-d427-4729-a008-56596dfd2f0f",
   "metadata": {},
   "outputs": [],
   "source": [
    "stoi = {ch:i for i, ch in enumerate(chars)}\n",
    "itos = {i:ch for i, ch in enumerate(chars)}\n",
    "encode = lambda s: [stoi[c] for c in s]\n",
    "decode = lambda l: ''.join([itos[i] for i in l])"
   ]
  },
  {
   "cell_type": "code",
   "execution_count": null,
   "id": "67ed7ffa-c059-44dc-a7de-aa56ee495efa",
   "metadata": {},
   "outputs": [],
   "source": [
    "print(encode('hii there,\\nyou'))\n",
    "print(decode(encode('hii there,\\nyou')))"
   ]
  },
  {
   "cell_type": "code",
   "execution_count": null,
   "id": "a1426f63-7b4c-4f71-aa2f-d1c4c7fe06ff",
   "metadata": {},
   "outputs": [],
   "source": [
    "data = torch.tensor(encode(text), dtype=torch.long)"
   ]
  },
  {
   "cell_type": "code",
   "execution_count": null,
   "id": "ee89bf57-4a59-40b6-818c-36c5d1070a99",
   "metadata": {},
   "outputs": [],
   "source": [
    "data.shape, data.dtype"
   ]
  },
  {
   "cell_type": "code",
   "execution_count": null,
   "id": "a1ac3f79-2f69-4121-bf29-681f89ff4ae8",
   "metadata": {
    "tags": []
   },
   "outputs": [],
   "source": [
    "print(data[:200])"
   ]
  },
  {
   "cell_type": "code",
   "execution_count": null,
   "id": "6b0850ff-f4f7-42cd-a22d-00443e4f5f2e",
   "metadata": {},
   "outputs": [],
   "source": [
    "n = int(0.9 * len(data))\n",
    "train_data = data[:n]\n",
    "val_data   = data[n:]"
   ]
  },
  {
   "cell_type": "code",
   "execution_count": null,
   "id": "a49f863c-442f-40c6-86ea-e40db1b9f15a",
   "metadata": {},
   "outputs": [],
   "source": [
    "train_data.shape, val_data.shape"
   ]
  },
  {
   "cell_type": "code",
   "execution_count": null,
   "id": "732f9acd-1d0d-4d66-bf7e-c16c95a8dd16",
   "metadata": {},
   "outputs": [],
   "source": [
    "train_data[:block_size + 1]"
   ]
  },
  {
   "cell_type": "code",
   "execution_count": null,
   "id": "08fed33e-6e2a-4f02-9e06-1a41f32ff151",
   "metadata": {},
   "outputs": [],
   "source": [
    "x = train_data[:block_size]\n",
    "y = train_data[1:block_size + 1]\n",
    "for t in range(block_size):\n",
    "    context = x[:t + 1]\n",
    "    target  = y[t]\n",
    "    print(f'when input is: {context} the target is: {target}')"
   ]
  },
  {
   "cell_type": "code",
   "execution_count": null,
   "id": "06ac1287-dd78-4eb4-b20a-56860fa96ea7",
   "metadata": {},
   "outputs": [],
   "source": [
    "torch.manual_seed(seed)\n",
    "#batch_size = 4\n",
    "#block_size = 8 # maximum context length for predictions"
   ]
  },
  {
   "cell_type": "code",
   "execution_count": null,
   "id": "6059b98e-ca64-47ea-85d3-3a4ad04020c0",
   "metadata": {},
   "outputs": [],
   "source": [
    "def get_batch(split):\n",
    "    data = train_data if split=='train' else val_data\n",
    "    ix = torch.randint(len(data) - block_size, (batch_size, ))\n",
    "    x = torch.stack([data[i:i + block_size] for i in ix])\n",
    "    y = torch.stack([data[i + 1:i + block_size + 1] for i in ix])\n",
    "    return x, y\n",
    "\n",
    "@torch.no_grad()\n",
    "def estimate_loss():\n",
    "    out = {}\n",
    "    model.eval() # set model to eval phase (check docs for meaning of this)\n",
    "    # presumably eval() and train() methods are in nn.Module parent class of model\n",
    "    for split in ['train', 'val']:\n",
    "        losses = torch.zeros(eval_iters)\n",
    "        for k in range(eval_iters):\n",
    "            X, Y = get_batch(split)\n",
    "            logits, loss = model(X, Y)\n",
    "            losses[k] = loss.item()\n",
    "        out[split] = losses.mean()\n",
    "    model.train() # reset model back to training phase (check docs for meaning)\n",
    "    return out"
   ]
  },
  {
   "cell_type": "code",
   "execution_count": null,
   "id": "99ca0079-3de7-47eb-9535-c0b9fbe6f756",
   "metadata": {
    "tags": []
   },
   "outputs": [],
   "source": [
    "xb, yb = get_batch('train')\n",
    "print('inputs')\n",
    "print(xb.shape)\n",
    "print(xb)\n",
    "print('targets')\n",
    "print(yb.shape)\n",
    "print(yb)"
   ]
  },
  {
   "cell_type": "code",
   "execution_count": null,
   "id": "fece78f0-351e-4b97-9245-84ad211d49e2",
   "metadata": {
    "tags": []
   },
   "outputs": [],
   "source": [
    "for b in range(batch_size):\n",
    "    for t in range(block_size):\n",
    "        context = xb[b, :t + 1]\n",
    "        target  = yb[b, t]\n",
    "        print(f'when input is: {context.tolist()} the target is: {target}')"
   ]
  },
  {
   "cell_type": "code",
   "execution_count": null,
   "id": "697c3087-f57a-4acc-a0bf-161149bf60b0",
   "metadata": {},
   "outputs": [],
   "source": [
    "# an embedding is just a random mxn array\n",
    "list(nn.Embedding(3, 5).parameters())\n",
    "dd = nn.Embedding(3,5)\n",
    "ee = list(dd.parameters())\n",
    "for k in dd.parameters():\n",
    "    print(k.shape)"
   ]
  },
  {
   "cell_type": "code",
   "execution_count": null,
   "id": "c7d8e16e-66a3-43ee-8cce-9304c75064f6",
   "metadata": {},
   "outputs": [],
   "source": [
    "class Head(nn.Module):\n",
    "    '''one head of self-attention'''\n",
    "    \n",
    "    def __init__(self, head_size):\n",
    "        super().__init__()\n",
    "        self.key    = nn.Linear(n_embd, head_size, bias=False)\n",
    "        self.query  = nn.Linear(n_embd, head_size, bias=False)\n",
    "        self.value  = nn.Linear(n_embd, head_size, bias=False)\n",
    "        self.register_buffer('tril', torch.tril(torch.ones(block_size, block_size)))\n",
    "        \n",
    "    def forward(self, x):\n",
    "        B,T,C = x.shape\n",
    "        k = self.key(x)   # (B,T,C)\n",
    "        q = self.query(x) # (B,T,C)\n",
    "        # compute attention scores ('affinities')\n",
    "        wei = q @ k.transpose(-2,-1) * C**-0.5 # (B,T,C) @ (B,C,T) => (B,T,T)\n",
    "        wei = F.softmax(wei, dim=-1) # (B,T,T)\n",
    "        # perform the weighted aggregation of the values\n",
    "        v = self.value(x) # (B,T,C)\n",
    "        out = wei @ v # (B,T,T) @ (B,T,C) => (B,T,C)\n",
    "        return out\n"
   ]
  },
  {
   "cell_type": "code",
   "execution_count": null,
   "id": "ef940fbd-2362-4fac-81b0-2448a281b0f5",
   "metadata": {},
   "outputs": [],
   "source": [
    "# Digram model to start\n",
    "torch.manual_seed(seed)\n",
    "\n",
    "class BigramLanguageModel(nn.Module):\n",
    "    \n",
    "    def __init__(self):\n",
    "        super().__init__()\n",
    "        # create a random embedding matrix\n",
    "        self.token_embedding_table    = nn.Embedding(vocab_size, n_embd)\n",
    "        self.position_embedding_table = nn.Embedding(block_size, n_embd)\n",
    "        self.sa_head = Head(n_embd)\n",
    "        self.lm_head = nn.Linear(n_embd, vocab_size)\n",
    "        \n",
    "    def forward(self, idx, targets=None):\n",
    "        # B = batch, T = time, C = channel (embedding dimension size n_embd)\n",
    "        # idx and targets are each (B,T) tensors of integers\n",
    "        B, T = idx.shape\n",
    "        \n",
    "        #print(f'T = {T}') # diagnostic\n",
    "        #for k in self.position_embedding_table.parameters():\n",
    "        #    print(k.shape)\n",
    "        \n",
    "        tok_emb = self.token_embedding_table(idx) # (B,T,C)\n",
    "        pos_emb = self.position_embedding_table(torch.arange(T, device=device)) # (T,C)\n",
    "        x = tok_emb + pos_emb # (B,T,C) due to broadcasting of pos_emb over B\n",
    "        x = self.sa_head(x) # apply one head of self-attention, (B,T,C)\n",
    "        logits  = self.lm_head(x) # (B,T,C) @ (C,vocab_zsize) => (B,T,vocab_size)\n",
    "        \n",
    "        if targets is None:\n",
    "            loss = None\n",
    "        else:\n",
    "            # this is training the embedding matrix\n",
    "            B, T, C = logits.shape\n",
    "            logits  = logits.view(B * T, C)  # reshape for cross_entropy\n",
    "            targets = targets.view(B * T)    # ditto (or could do ...view(-1))\n",
    "            loss    = F.cross_entropy(logits, targets)\n",
    "        \n",
    "        return logits, loss\n",
    "    \n",
    "    # this function is more general than a digraph model (block_size = 1) requires, \n",
    "    # for use later with longer values pf block_size\n",
    "    def generate(self, idx, max_new_tokens):\n",
    "        # idx is a (B, T) array of indices in the current context\n",
    "        for _ in range(max_new_tokens):\n",
    "            # crop idx to the last block_size tokens\n",
    "            idx_cond = idx[:, -block_size:]\n",
    "            # get the predictions\n",
    "            logits, loss = self(idx_cond)\n",
    "            # focus only on the last time step\n",
    "            logits = logits[:, -1, :] # this becomes (B, C)\n",
    "            # apply softmax to get probs\n",
    "            probs = F.softmax(logits, dim=-1) # (B, C)\n",
    "            # sample\n",
    "            idx_next = torch.multinomial(probs, num_samples=1) # (B, 1)\n",
    "            # append sampled index to the running sequence\n",
    "            idx = torch.cat((idx, idx_next), dim=1) # (B, T + 1)\n",
    "        return idx\n",
    "        "
   ]
  },
  {
   "cell_type": "code",
   "execution_count": null,
   "id": "510bfb7f-2fc4-4401-bb78-048c38349159",
   "metadata": {},
   "outputs": [],
   "source": [
    "model = BigramLanguageModel()\n",
    "m     = model.to(device)\n",
    "out, loss = m(xb, yb)\n",
    "out.shape, loss.item()"
   ]
  },
  {
   "cell_type": "code",
   "execution_count": null,
   "id": "3dc4d6e2-0adf-4fb3-a24f-2a305081e852",
   "metadata": {
    "tags": []
   },
   "outputs": [],
   "source": [
    "batch = 1  # WS mod\n",
    "idx = torch.zeros((batch, 1), dtype=torch.long)\n",
    "out = m.generate(idx, max_new_tokens=500)\n",
    "#print(out.shape)\n",
    "for k in out:\n",
    "    print(decode(k.tolist()))"
   ]
  },
  {
   "cell_type": "code",
   "execution_count": null,
   "id": "bdcc8455-c16b-46be-99d0-52db4c17df85",
   "metadata": {},
   "outputs": [],
   "source": [
    "# create a PyTorch optimizer\n",
    "optimizer = torch.optim.AdamW(model.parameters(), lr=learning_rate)"
   ]
  },
  {
   "cell_type": "code",
   "execution_count": null,
   "id": "c6c03323-4183-436c-ab12-0b159f792146",
   "metadata": {},
   "outputs": [],
   "source": [
    "# training\n",
    "for iter in range(max_iters):\n",
    "    \n",
    "    if iter % eval_interval == 0:\n",
    "        losses = estimate_loss()\n",
    "        print(f\"step {iter:5}: train loss {losses['train']:.4f}, val loss {losses['val']:.4f}\")\n",
    "    \n",
    "    xb, yb = get_batch('train')\n",
    "    \n",
    "    logits, loss = model(xb, yb)\n",
    "    optimizer.zero_grad(set_to_none=True)\n",
    "    loss.backward()\n",
    "    optimizer.step()\n",
    "    \n",
    "#print(loss.item())"
   ]
  },
  {
   "cell_type": "code",
   "execution_count": null,
   "id": "4026252e-48e7-4d46-9ddd-349418f29122",
   "metadata": {},
   "outputs": [],
   "source": [
    "context = torch.zeros((1,1), dtype=torch.long, device=device)\n",
    "print(decode(m.generate(context, max_new_tokens=500)[0].tolist()))"
   ]
  },
  {
   "cell_type": "markdown",
   "id": "225ead7d-9d2b-4c1b-b407-472b2ac35ca6",
   "metadata": {},
   "source": [
    "# The mathematical trick in self-attention"
   ]
  },
  {
   "cell_type": "code",
   "execution_count": null,
   "id": "4ef5cc8e-b1a1-4f81-a906-de8bd9bfb221",
   "metadata": {},
   "outputs": [],
   "source": [
    "torch.manual_seed(seed)\n",
    "B,T,C = 4, 8, 2 # batch, time, channels\n",
    "x = torch.randn(B, T, C)\n",
    "x.shape\n",
    "x[0]"
   ]
  },
  {
   "cell_type": "code",
   "execution_count": null,
   "id": "d81e5c58-6fcd-4129-bfc6-79511bd2ccd6",
   "metadata": {
    "tags": []
   },
   "outputs": [],
   "source": [
    "# we want x[b, t] = mean_{i<=t} x[b, i]\n",
    "# ie, calculate the average of what comes before the ith token\n",
    "# and include the ith token in the average\n",
    "xbow = torch.zeros((B, T, C)) # bow = 'bag of words'\n",
    "for b in range(B):\n",
    "    for t in range(T):\n",
    "        xprev = x[b,:t+1] # (t, C)\n",
    "        xbow[b, t] = torch.mean(xprev, 0) # (C)\n",
    "xbow[0]"
   ]
  },
  {
   "cell_type": "code",
   "execution_count": null,
   "id": "40596d6a-2a5e-4f43-92d8-8afb070a3c7b",
   "metadata": {},
   "outputs": [],
   "source": [
    "# the trick to make more efficient: lower triangular matrix multiply\n",
    "torch.manual_seed(42)\n",
    "a = torch.tril(torch.ones(3,3))\n",
    "a = a / torch.sum(a, 1, keepdim=True)\n",
    "b = torch.randint(0, 10, (3, 2)).float()\n",
    "c = a @ b\n",
    "a, b, c"
   ]
  },
  {
   "cell_type": "code",
   "execution_count": null,
   "id": "a75d91b1-89ea-4965-a88c-be205b6fbb2a",
   "metadata": {},
   "outputs": [],
   "source": [
    "# now make xbow more efficient with this trick: version 2\n",
    "wei = torch.tril(torch.ones(T, T))\n",
    "wei = wei / wei.sum(1, keepdim=True)\n",
    "xbow2 = wei @ x # (B,T,T) @ (B,T,C) => (B,T,C) (wei is broadcast over B)\n",
    "xbow2.shape\n",
    "torch.allclose(xbow, xbow2)"
   ]
  },
  {
   "cell_type": "code",
   "execution_count": null,
   "id": "a13a1e1a-6e21-4c26-b5b8-7a86583f08b5",
   "metadata": {},
   "outputs": [],
   "source": [
    "# version 3: softmax\n",
    "tril = torch.tril(torch.ones(T, T))\n",
    "wei = torch.zeros((T, T))\n",
    "wei = wei.masked_fill(tril == 0, float('-inf'))\n",
    "wei = F.softmax(wei, dim=-1)  # normalize along last dimension\n",
    "xbow3 = wei @ x\n",
    "torch.allclose(xbow, xbow3)"
   ]
  },
  {
   "cell_type": "code",
   "execution_count": null,
   "id": "70853686-67f7-4d19-a05d-0c65d66b2357",
   "metadata": {},
   "outputs": [],
   "source": [
    "# version 4: self attention!\n",
    "torch.manual_seed(seed)\n",
    "B,T,C = 4,8,32 # batch, time, channels\n",
    "x = torch.randn(B, T, C)\n",
    "\n",
    "# a single Head for self-attention\n",
    "head_size = 16\n",
    "key   = nn.Linear(C, head_size, bias=False) # (C,16)\n",
    "query = nn.Linear(C, head_size, bias=False)\n",
    "value = nn.Linear(C, head_size, bias=False)\n",
    "k     = key(x)   # (B,T,C) @ (C,16) => (B,T,16)\n",
    "q     = query(x)\n",
    "v     = value(x)\n",
    "# here's the magic to get the historical weights\n",
    "# multiply by head_size**-5 to normalize the variance of the weights\n",
    "wei = q @ k.transpose(-2,-1) * head_size**-0.5 # (B,T,16) @ (B,16,T) => (B,T,T)"
   ]
  },
  {
   "cell_type": "code",
   "execution_count": null,
   "id": "7806f983-f82f-45bd-a29c-bd94a9921fac",
   "metadata": {},
   "outputs": [],
   "source": [
    "tril = torch.tril(torch.ones(T, T))\n",
    "#wei  = torch.zeros((T, T))\n",
    "# NOTE: in decoder methods, use the causal line below (ie, the future not known)\n",
    "#       in coder   methods, don't use the line below: all nodes can communicate\n",
    "wei  = wei.masked_fill(tril == 0, float('-inf'))\n",
    "wei  = F.softmax(wei, dim=-1)\n",
    "#out  = wei @ x\n",
    "out  = wei @ v"
   ]
  },
  {
   "cell_type": "code",
   "execution_count": null,
   "id": "d04c2268-fccc-4624-8f21-753e1b4c038e",
   "metadata": {},
   "outputs": [],
   "source": [
    "wei.shape, out.shape"
   ]
  },
  {
   "cell_type": "code",
   "execution_count": null,
   "id": "b9c31e74-2dc3-455a-a087-321a8e6ed5c3",
   "metadata": {},
   "outputs": [],
   "source": [
    "k = torch.randn(B,T,head_size)\n",
    "q = torch.randn(B,T,head_size)\n",
    "wei = q @ k.transpose(-2,-1) * head_size**-0.5\n",
    "k.var(), q.var(), wei.var()"
   ]
  },
  {
   "cell_type": "code",
   "execution_count": null,
   "id": "16dd3cb3-4f5f-4204-8d6b-2599c583a24e",
   "metadata": {},
   "outputs": [],
   "source": [
    "out[0]"
   ]
  },
  {
   "cell_type": "code",
   "execution_count": null,
   "id": "1e1246e0-436d-4aa7-83af-9347756fd34d",
   "metadata": {},
   "outputs": [],
   "source": []
  }
 ],
 "metadata": {
  "kernelspec": {
   "display_name": "Python 3 (ipykernel)",
   "language": "python",
   "name": "python3"
  },
  "language_info": {
   "codemirror_mode": {
    "name": "ipython",
    "version": 3
   },
   "file_extension": ".py",
   "mimetype": "text/x-python",
   "name": "python",
   "nbconvert_exporter": "python",
   "pygments_lexer": "ipython3",
   "version": "3.10.6"
  }
 },
 "nbformat": 4,
 "nbformat_minor": 5
}
