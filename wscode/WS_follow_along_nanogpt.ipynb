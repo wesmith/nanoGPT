{
 "cells": [
  {
   "cell_type": "markdown",
   "id": "01ea635f-1030-45e7-a9e3-b1ccd2920e08",
   "metadata": {},
   "source": [
    "# WS_follow_along_nanogpt.ipynb\n",
    "# WESmith 06/10/23\n",
    "## follow along with Karpathy video\n",
    "## https://www.youtube.com/watch?v=kCc8FmEb1nY"
   ]
  },
  {
   "cell_type": "code",
   "execution_count": null,
   "id": "75a1c64e-95cc-410d-a983-d01a0df9c337",
   "metadata": {},
   "outputs": [],
   "source": [
    "import torch\n",
    "import torch.nn as nn\n",
    "from   torch.nn import functional as F"
   ]
  },
  {
   "cell_type": "code",
   "execution_count": null,
   "id": "35a19c98-6f45-4776-95d8-c8453bc70476",
   "metadata": {},
   "outputs": [],
   "source": [
    "# this worked, got input.txt\n",
    "#!wget https://raw.githubusercontent.com/karpathy/char-rnn/master/data/tinyshakespeare/input.txt"
   ]
  },
  {
   "cell_type": "code",
   "execution_count": null,
   "id": "97e7d379-cafd-4fa2-974a-c50c0d4309ca",
   "metadata": {},
   "outputs": [],
   "source": [
    "# hyperparameters\n",
    "# apparently block_size is somehow coupled to other params to give best results:\n",
    "block_size    = 8    # number of context characters (original was 8, 12 gave garbage, 16 not as good as 8)\n",
    "n_embd        = 32   # size of embedding space\n",
    "n_head        = 4    # number of heads\n",
    "#head_size     = n_embd // n_head  # guarantee that after concatenation, array has n_embd size\n",
    "n_layer       = 3    # number of layers\n",
    "dropout       = 0.2\n",
    "\n",
    "batch_size    = 32\n",
    "max_iters     = 5000\n",
    "eval_interval = 500\n",
    "learning_rate = 1e-3\n",
    "eval_iters    = 200  # used in estimate_loss() function\n",
    "\n",
    "seed          = 1337\n",
    "device        = 'cuda' if torch.cuda.is_available() else 'cpu'\n",
    "device"
   ]
  },
  {
   "cell_type": "code",
   "execution_count": null,
   "id": "6568c116-18cc-4e7e-addb-8ba265279b00",
   "metadata": {},
   "outputs": [],
   "source": [
    "torch.manual_seed(seed)"
   ]
  },
  {
   "cell_type": "code",
   "execution_count": null,
   "id": "8fd0d167-3aa7-4e64-8298-67f9b5b999a1",
   "metadata": {},
   "outputs": [],
   "source": [
    "with open('input.txt', 'r', encoding='utf-8') as f:\n",
    "    text = f.read()\n",
    "len(text)"
   ]
  },
  {
   "cell_type": "code",
   "execution_count": null,
   "id": "1c2ddc08-c20d-4e04-a1be-f858b393636c",
   "metadata": {},
   "outputs": [],
   "source": [
    "print(text[:150])"
   ]
  },
  {
   "cell_type": "code",
   "execution_count": null,
   "id": "0a2abdd0-591f-42a9-bfe3-4aa1a2aed290",
   "metadata": {},
   "outputs": [],
   "source": [
    "chars = sorted(list(set(text)))\n",
    "vocab_size = len(chars)\n",
    "vocab_size, ''.join(chars)"
   ]
  },
  {
   "cell_type": "code",
   "execution_count": null,
   "id": "a93ec2a0-d427-4729-a008-56596dfd2f0f",
   "metadata": {},
   "outputs": [],
   "source": [
    "stoi = {ch:i for i, ch in enumerate(chars)}\n",
    "itos = {i:ch for i, ch in enumerate(chars)}\n",
    "encode = lambda s: [stoi[c] for c in s]\n",
    "decode = lambda l: ''.join([itos[i] for i in l])"
   ]
  },
  {
   "cell_type": "code",
   "execution_count": null,
   "id": "67ed7ffa-c059-44dc-a7de-aa56ee495efa",
   "metadata": {},
   "outputs": [],
   "source": [
    "print(encode('hii there,\\nyou'))\n",
    "decode(encode('hii there,\\nyou'))"
   ]
  },
  {
   "cell_type": "code",
   "execution_count": null,
   "id": "ddf9f7b3-d564-4a2f-aaca-c181a88e4653",
   "metadata": {},
   "outputs": [],
   "source": [
    "# train and test splits\n",
    "train_frac = 0.9\n",
    "data = torch.tensor(encode(text), dtype=torch.long)\n",
    "n = int(train_frac * len(data))\n",
    "train_data = data[:n]\n",
    "val_data   = data[n:]"
   ]
  },
  {
   "cell_type": "code",
   "execution_count": null,
   "id": "a49f863c-442f-40c6-86ea-e40db1b9f15a",
   "metadata": {},
   "outputs": [],
   "source": [
    "train_data.shape, val_data.shape"
   ]
  },
  {
   "cell_type": "code",
   "execution_count": null,
   "id": "a4ca6279-bbbd-4f9e-9c3a-af7d51df2b6b",
   "metadata": {},
   "outputs": [],
   "source": [
    "decode(train_data[:block_size].tolist())  # WS tolist() to get the data"
   ]
  },
  {
   "cell_type": "code",
   "execution_count": null,
   "id": "6059b98e-ca64-47ea-85d3-3a4ad04020c0",
   "metadata": {},
   "outputs": [],
   "source": [
    "def get_batch(batch_size, split, block_size=8):  # WS added batch_size, block_size as args\n",
    "    data = train_data if split=='train' else val_data\n",
    "    ix = torch.randint(len(data) - block_size, (batch_size, ))\n",
    "    x  = torch.stack([data[i:i + block_size] for i in ix])\n",
    "    y  = torch.stack([data[i + 1:i + block_size + 1] for i in ix])\n",
    "    x, y = x.to(device), y.to(device)\n",
    "    return x, y\n",
    "\n",
    "@torch.no_grad()\n",
    "def estimate_loss(model, batch_size):  # WS added model, batch_size as args, instead of relying on global\n",
    "    out = {}\n",
    "    model.eval() # set model to eval phase (check docs for meaning of this)\n",
    "    # presumably eval() and train() methods are in nn.Module parent class of model\n",
    "    for split in ['train', 'val']:\n",
    "        losses = torch.zeros(eval_iters)\n",
    "        for k in range(eval_iters):\n",
    "            X, Y = get_batch(batch_size, split)\n",
    "            _, loss = model(X, Y)\n",
    "            losses[k]    = loss.item()\n",
    "        out[split] = losses.mean()\n",
    "    model.train() # reset model back to training phase (check docs for meaning)\n",
    "    return out"
   ]
  },
  {
   "cell_type": "code",
   "execution_count": null,
   "id": "c7d8e16e-66a3-43ee-8cce-9304c75064f6",
   "metadata": {},
   "outputs": [],
   "source": [
    "class Head(nn.Module):\n",
    "    '''one head of self-attention'''\n",
    "    \n",
    "    def __init__(self, head_size, n_embd, block_size, dropout):  # WS added n_embd, block_size args\n",
    "        super().__init__()\n",
    "        self.key    = nn.Linear(n_embd, head_size, bias=False)\n",
    "        self.query  = nn.Linear(n_embd, head_size, bias=False)\n",
    "        self.value  = nn.Linear(n_embd, head_size, bias=False)  # WS! should this be (n_embd, n_embd)? see comment below\n",
    "        self.register_buffer('tril', torch.tril(torch.ones(block_size, block_size)))\n",
    "        self.dropout = nn.Dropout(dropout)\n",
    "        \n",
    "    def forward(self, x):\n",
    "        B,T,C = x.shape   # C is n_embd\n",
    "        k = self.key(x)   # (B,T,C) @ (C,head_size) => (B,T,head_size)\n",
    "        q = self.query(x) # (B,T,head_size)\n",
    "        \n",
    "        # compute attention scores ('affinities')\n",
    "        #wei = q @ k.transpose(-2,-1) * head_size**-0.5 # (B,T,head_size) @ (B,head_size,T) => (B,T,T)\n",
    "        wei = q @ k.transpose(-2,-1) * k.shape[-1]**-0.5  # k.shape[-1] is head_size\n",
    "        wei = wei.masked_fill(self.tril[:T, :T] == 0, float('-inf'))\n",
    "        wei = F.softmax(wei, dim=-1) # (B,T,T)\n",
    "        wei = self.dropout(wei)\n",
    "        # perform the weighted aggregation of the values\n",
    "        v = self.value(x) # (B,T,C) @ (C,head_size) => (B,T,head_size)\n",
    "        out = wei @ v # (B,T,T) @ (B,T,head_size) => (B,T,head_size)\n",
    "        return out"
   ]
  },
  {
   "cell_type": "code",
   "execution_count": null,
   "id": "225210d6-bcb0-40e4-be1e-8232b22872b4",
   "metadata": {},
   "outputs": [],
   "source": [
    "class MultiHeadAttention(nn.Module):\n",
    "    '''multiple heads of self-attention in parallel'''\n",
    "    \n",
    "    def __init__(self, num_heads, head_size, n_embd, block_size, dropout):  # WS added args\n",
    "        super().__init__()\n",
    "        self.heads   = nn.ModuleList([Head(head_size, n_embd, block_size, dropout) for _ in range(num_heads)])\n",
    "        self.proj    = nn.Linear(head_size * num_heads, n_embd)  # not clear why added: added at 1h 31m in video\n",
    "        self.dropout = nn.Dropout(dropout)\n",
    "        \n",
    "    def forward(self, x):\n",
    "        out = torch.cat([h(x) for h in self.heads], dim=-1) # concatenate: final size is head_size * num_heads\n",
    "        out = self.dropout(self.proj(out))\n",
    "        return out\n",
    "\n",
    "class FeedForward(nn.Module):\n",
    "    '''a simple linear layer followed by a nonlinearity'''\n",
    "    \n",
    "    def __init__(self, n_embd, dropout):\n",
    "        super().__init__()\n",
    "        self.net = nn.Sequential(\n",
    "            nn.Linear(n_embd, 4 * n_embd), # factor of 4 from 2017 paper: black magic\n",
    "            nn.ReLU(),\n",
    "            nn.Linear(4 * n_embd, n_embd),   # this is the 'proj' network\n",
    "            nn.Dropout(dropout), )\n",
    "        \n",
    "    def forward(self, x):\n",
    "        return self.net(x)\n",
    "\n",
    "class Block(nn.Module):\n",
    "    '''Transformer block: communication followed by computation'''\n",
    "    \n",
    "    def __init__(self, n_embd, n_head, block_size, dropout):  # WS added args\n",
    "        super().__init__()\n",
    "        head_size = n_embd // n_head  # WS guarantees (assuming no roundoff error) that final concatenated output has size n_embd\n",
    "        self.sa   = MultiHeadAttention(n_head, head_size, n_embd, block_size, dropout)  # 'sa' for self-attention\n",
    "        self.ffwd = FeedForward(n_embd, dropout)\n",
    "        self.ln1  = nn.LayerNorm(n_embd)  # layernorm discussion starts around 1h 33m in video: slight departure from 2017 paper\n",
    "        self.ln2  = nn.LayerNorm(n_embd)\n",
    "\n",
    "    def forward(self, x):\n",
    "        x = x + self.sa(self.ln1(x)) # 'skip' approach from 2017 paper\n",
    "        x = x + self.ffwd(self.ln2(x))\n",
    "        return x\n",
    "\n",
    "class GPTLanguageModel(nn.Module):\n",
    "    \n",
    "    def __init__(self, vocab_size, block_size, n_embd, n_head, n_layer, dropout):  # WS added args\n",
    "        super().__init__()\n",
    "        # create a random embedding matrix\n",
    "        self.token_embedding_table    = nn.Embedding(vocab_size, n_embd) # size (vocab, C) C is embedding size n_embd\n",
    "        self.position_embedding_table = nn.Embedding(block_size, n_embd)\n",
    "\n",
    "        # the '*' indicates a list is input\n",
    "        self.blocks = nn.Sequential(*[Block(n_embd, n_head=n_head, block_size=block_size, dropout=dropout) for _ in range(n_layer)])\n",
    "        self.ln_f   = nn.LayerNorm(n_embd)  # final layer norm\n",
    "        # lm_head means 'language-modeling head'\n",
    "        # WS note: to be most general, the input dimension of lm_head must be head_number * head_size, since this is the\n",
    "        #          final size of the concatenated multihead output\n",
    "        self.lm_head    = nn.Linear(n_embd, vocab_size)  # this introduced in video at 59m\n",
    "        \n",
    "        self.block_size = block_size  # WS added\n",
    "        # the following not covered in this video: it is supposed to be covered in a following video\n",
    "        self.apply(self._init_weights)  # a better init\n",
    "\n",
    "    def _init_weights(self, module):  # not in this video; WS note: see apply() method of nn.Module to see how this works\n",
    "        if isinstance(module, nn.Linear):\n",
    "            torch.nn.init.normal_(module.weight, mean=0.0, std=0.02)\n",
    "            if module.bias is not None:\n",
    "                torch.nn.init.zeros_(module.bias)\n",
    "        elif isinstance(module, nn.Embedding):\n",
    "            torch.nn.init.normal_(module.weight, mean=0.0, std=0.02)\n",
    "        \n",
    "    def forward(self, idx, targets=None):\n",
    "        # B = batch, T = time, C = channel (embedding dimension size n_embd)\n",
    "        # idx and targets are each (B,T) tensors of integers\n",
    "        B, T = idx.shape\n",
    "        tok_emb = self.token_embedding_table(idx) # size (B,T,C)\n",
    "        pos_emb = self.position_embedding_table(torch.arange(T, device=device)) # (T,C)\n",
    "        x       = tok_emb + pos_emb # (B,T,C) due to broadcasting of pos_emb over B\n",
    "        x       = self.blocks(x) # (B,T,C)\n",
    "        x       = self.ln_f(x)   # (B,T,C)\n",
    "        logits  = self.lm_head(x) # (B,T,C) @ (C,vocab_zsize) => (B,T,vocab_size)\n",
    "        \n",
    "        if targets is None:\n",
    "            loss = None\n",
    "        else:\n",
    "            # this is training the embedding matrix\n",
    "            B, T, C = logits.shape\n",
    "            logits  = logits.view(B * T, C)  # reshape for cross_entropy\n",
    "            targets = targets.view(B * T)    # ditto (or could do ...view(-1))\n",
    "            loss    = F.cross_entropy(logits, targets)\n",
    "        \n",
    "        return logits, loss\n",
    "    \n",
    "    # this function is more general than a digraph model (block_size = 1) requires, \n",
    "    # for use later with longer values pf block_size\n",
    "    def generate(self, idx, max_new_tokens):\n",
    "        # idx is a (B, T) array of indices in the current context\n",
    "        for _ in range(max_new_tokens):\n",
    "            # crop idx to the last block_size tokens\n",
    "            idx_cond = idx[:, -self.block_size:]\n",
    "            # get the predictions\n",
    "            logits, loss = self(idx_cond)\n",
    "            # focus only on the last time step\n",
    "            logits = logits[:, -1, :] # this becomes (B, C)\n",
    "            # apply softmax to get probs\n",
    "            probs = F.softmax(logits, dim=-1) # (B, C)\n",
    "            # sample\n",
    "            idx_next = torch.multinomial(probs, num_samples=1) # (B, 1)\n",
    "            # append sampled index to the running sequence\n",
    "            idx = torch.cat((idx, idx_next), dim=1) # (B, T + 1)\n",
    "        return idx"
   ]
  },
  {
   "cell_type": "markdown",
   "id": "06ff5e9d-ffd8-49f0-9f9b-78c99e34e2be",
   "metadata": {},
   "source": [
    "# BUILD THE MODEL"
   ]
  },
  {
   "cell_type": "code",
   "execution_count": null,
   "id": "71a327f8-e1c7-4a9f-9ae9-bcb90a189ae4",
   "metadata": {},
   "outputs": [],
   "source": [
    "model = GPTLanguageModel(vocab_size, block_size, n_embd, n_head, n_layer, dropout)\n",
    "m     = model.to(device)\n",
    "# print the number of parameters in the model\n",
    "print(sum(p.numel() for p in m.parameters()), ' parameters')"
   ]
  },
  {
   "cell_type": "code",
   "execution_count": null,
   "id": "a6fd885b-3246-4ea1-aa88-3dff97c6a5db",
   "metadata": {},
   "outputs": [],
   "source": [
    "#list(list(p.shape) for p in m.parameters())"
   ]
  },
  {
   "cell_type": "code",
   "execution_count": null,
   "id": "981b01d4-0e1c-48bf-bbed-032fe6805cc0",
   "metadata": {},
   "outputs": [],
   "source": [
    "dd = list(p for p in m.parameters())"
   ]
  },
  {
   "cell_type": "code",
   "execution_count": null,
   "id": "cf5829de-69f9-4fd0-a8d0-27c180bea124",
   "metadata": {},
   "outputs": [],
   "source": [
    "#for k in dd:\n",
    "#    print(list(k.shape))"
   ]
  },
  {
   "cell_type": "markdown",
   "id": "ebddc3e7-b0ce-4a1e-aab3-19dd177010cd",
   "metadata": {},
   "source": [
    "### LOOK AT THE UNTRAINED MODEL RESULTS"
   ]
  },
  {
   "cell_type": "code",
   "execution_count": null,
   "id": "c999e13b-0a73-4e3d-bb8e-22c68faaec8c",
   "metadata": {},
   "outputs": [],
   "source": [
    "# look at untrained model for a batch\n",
    "xb, yb = get_batch(batch_size, 'train')\n",
    "out, loss = m(xb, yb)\n",
    "out.shape, loss.item()"
   ]
  },
  {
   "cell_type": "code",
   "execution_count": null,
   "id": "3dc4d6e2-0adf-4fb3-a24f-2a305081e852",
   "metadata": {
    "tags": []
   },
   "outputs": [],
   "source": [
    "batch = 1  # WS mod\n",
    "idx = torch.zeros((batch, 1), dtype=torch.long, device=device)\n",
    "out = m.generate(idx, max_new_tokens=500)\n",
    "for k in out:\n",
    "    print(decode(k.tolist()))"
   ]
  },
  {
   "cell_type": "markdown",
   "id": "388e7151-f431-4d64-84c6-4d26f746ce86",
   "metadata": {},
   "source": [
    "# TRAIN THE MODEL"
   ]
  },
  {
   "cell_type": "code",
   "execution_count": null,
   "id": "9fc0d040-7108-4e39-8b3e-9ba248232cf9",
   "metadata": {},
   "outputs": [],
   "source": [
    "# create a PyTorch optimizer\n",
    "optimizer = torch.optim.AdamW(model.parameters(), lr=learning_rate)\n",
    "\n",
    "# training\n",
    "for iter in range(max_iters + 1):  # WS added 1 to get last result to print\n",
    "    \n",
    "    if iter % eval_interval == 0:\n",
    "        losses = estimate_loss(model, batch_size)\n",
    "        print(f\"step {iter:5}: train loss {losses['train']:.4f}, val loss {losses['val']:.4f}\")\n",
    "    \n",
    "    xb, yb = get_batch(batch_size, 'train')\n",
    "    \n",
    "    logits, loss = model(xb, yb)\n",
    "    optimizer.zero_grad(set_to_none=True)\n",
    "    loss.backward()\n",
    "    optimizer.step()"
   ]
  },
  {
   "cell_type": "markdown",
   "id": "85410411-852a-4e96-99e7-28cbf476f15d",
   "metadata": {},
   "source": [
    "# THE TRAINED MODEL RESULTS"
   ]
  },
  {
   "cell_type": "code",
   "execution_count": null,
   "id": "4026252e-48e7-4d46-9ddd-349418f29122",
   "metadata": {
    "tags": []
   },
   "outputs": [],
   "source": [
    "context = torch.zeros((1,1), dtype=torch.long, device=device)\n",
    "print(decode(m.generate(context, max_new_tokens=500)[0].tolist()))"
   ]
  },
  {
   "cell_type": "markdown",
   "id": "53e5be01-d8ac-42c6-b839-3c6116390490",
   "metadata": {},
   "source": [
    "## MISC"
   ]
  },
  {
   "cell_type": "code",
   "execution_count": null,
   "id": "09ad3fdf-61d1-41ad-9f61-d72c8ad51291",
   "metadata": {},
   "outputs": [],
   "source": [
    "x, y = get_batch(1, 'train')\n",
    "for t in range(block_size):\n",
    "    context = x[0][:t + 1].tolist()  # WS added tolist() for decode()\n",
    "    target  = y[0][t].tolist()\n",
    "    print(f'when input is: {decode(context)} the target is: {decode([target])}')  # need to put target value into a list for decode()"
   ]
  },
  {
   "cell_type": "code",
   "execution_count": null,
   "id": "a5134517-a553-46d8-ac97-d56e477bb1fd",
   "metadata": {},
   "outputs": [],
   "source": [
    "nn.Module.apply?"
   ]
  },
  {
   "cell_type": "code",
   "execution_count": null,
   "id": "99ca0079-3de7-47eb-9535-c0b9fbe6f756",
   "metadata": {
    "tags": []
   },
   "outputs": [],
   "source": [
    "test_size = 2\n",
    "xb, yb = get_batch(test_size, 'train')\n",
    "print('inputs')\n",
    "print(xb.shape)\n",
    "print(xb)\n",
    "print('targets')\n",
    "print(yb.shape)\n",
    "print(yb)"
   ]
  },
  {
   "cell_type": "code",
   "execution_count": null,
   "id": "fece78f0-351e-4b97-9245-84ad211d49e2",
   "metadata": {
    "tags": []
   },
   "outputs": [],
   "source": [
    "for b in range(test_size):\n",
    "    for t in range(block_size):\n",
    "        context = xb[b, :t + 1]\n",
    "        target  = yb[b, t]\n",
    "        print(f'when input is: {decode(context.tolist())}| the target is: {decode([target.tolist()])}')"
   ]
  },
  {
   "cell_type": "markdown",
   "id": "ddaed6aa-6ddc-4e3b-bfc7-783c545e6cc1",
   "metadata": {},
   "source": [
    "## REVIEW OF HOW PyTorch EMBEDDING WORKS"
   ]
  },
  {
   "cell_type": "code",
   "execution_count": null,
   "id": "22d26803-feeb-468a-8392-1a3a923115b6",
   "metadata": {
    "tags": []
   },
   "outputs": [],
   "source": [
    "# WS a pytorch embedding is just a random mxn array\n",
    "dd = nn.Embedding(7,4)  # vocab_size x embedding_size (C for channel), 7 x 4\n",
    "ee = list(dd.parameters())  # parameters() is a generator, this returns a one-element list\n",
    "ee[0].shape\n",
    "ee[0].detach().numpy() # this is how to access the array"
   ]
  },
  {
   "cell_type": "code",
   "execution_count": null,
   "id": "1af2f237-a72e-4f68-8970-a19fe3d43781",
   "metadata": {
    "tags": []
   },
   "outputs": [],
   "source": [
    "# review of how embedding works: not a matrix multiply: each x value pulls out a row of the embedding table\n",
    "ff = torch.tensor([[2,1,5],[1,2,1]])  # batch (B) x num_chars (time or T), 2 x 3\n",
    "gg = dd(ff)  # batch x num_chars x C, 2 x 3 x 4: \n",
    "# thus embedding is (vocab_size, C), x is (B,T), output is (B,T,C): as if each scalar at B,T is replaced with a 1D array C long\n",
    "# vocab_size is lost, but the values of x must be in the range of vocab_size (ie, the values of x must be in the vocabulary)\n",
    "ff, gg"
   ]
  },
  {
   "cell_type": "markdown",
   "id": "225ead7d-9d2b-4c1b-b407-472b2ac35ca6",
   "metadata": {},
   "source": [
    "# The mathematical trick in self-attention"
   ]
  },
  {
   "cell_type": "code",
   "execution_count": null,
   "id": "213f2c24-43b7-4176-9d03-e81d45b44fe7",
   "metadata": {
    "tags": []
   },
   "outputs": [],
   "source": [
    "# setup\n",
    "torch.manual_seed(seed)\n",
    "#B,T,C = 4, 8, 32 # batch, time, channels (encoding size): video values\n",
    "B,T,C = 2, 3, 4 # WS values\n",
    "#x = torch.randn(B, T, C) # video values\n",
    "x = torch.reshape(torch.arange(0, B*T*C).float(), (B,T,C))  # WS\n",
    "x"
   ]
  },
  {
   "cell_type": "code",
   "execution_count": null,
   "id": "90e32f46-92bf-4f62-8841-845a9ae76174",
   "metadata": {
    "tags": []
   },
   "outputs": [],
   "source": [
    "# version 1: explicit calculation of progressive means of rows\n",
    "# we want x[b, t] = mean_{i<=t} x[b, i]\n",
    "# ie, calculate the average of what comes before the ith token\n",
    "# and include the ith token in the average\n",
    "xbow = torch.zeros((B, T, C)) # bow = 'bag of words'\n",
    "for b in range(B):\n",
    "    for t in range(T):\n",
    "        xprev = x[b,:t+1] # (T, C)\n",
    "        xbow[b, t] = torch.mean(xprev, 0) # (C)\n",
    "xbow  # first row is preserved, second row is average of first two rows, third row is average of first three rows"
   ]
  },
  {
   "cell_type": "code",
   "execution_count": null,
   "id": "a75d91b1-89ea-4965-a88c-be205b6fbb2a",
   "metadata": {},
   "outputs": [],
   "source": [
    "# version 2: use triangle matrix\n",
    "wei = torch.tril(torch.ones(T, T))\n",
    "wei = wei / wei.sum(1, keepdim=True)\n",
    "xbow2 = wei @ x # (T,T) @ (B,T,C) => (B,T,C) (wei is broadcast over B)\n",
    "torch.allclose(xbow, xbow2)"
   ]
  },
  {
   "cell_type": "code",
   "execution_count": null,
   "id": "71fffb53-010a-4144-960b-c644bf60785c",
   "metadata": {},
   "outputs": [],
   "source": [
    "wei"
   ]
  },
  {
   "cell_type": "code",
   "execution_count": null,
   "id": "a13a1e1a-6e21-4c26-b5b8-7a86583f08b5",
   "metadata": {},
   "outputs": [],
   "source": [
    "# version 3: use softmax\n",
    "tril = torch.tril(torch.ones(T, T))\n",
    "wei  = torch.zeros((T, T))\n",
    "wei  = wei.masked_fill(tril == 0, float('-inf'))\n",
    "wei  = F.softmax(wei, dim=-1)  # normalize along last dimension\n",
    "xbow3 = wei @ x\n",
    "torch.allclose(xbow, xbow3)"
   ]
  },
  {
   "cell_type": "code",
   "execution_count": null,
   "id": "70853686-67f7-4d19-a05d-0c65d66b2357",
   "metadata": {},
   "outputs": [],
   "source": [
    "# version 4: self attention!\n",
    "torch.manual_seed(seed)\n",
    "#B,T,C = 4,8,32 # batch, time, channels, video values\n",
    "B,T,C = 2,3,4 # WS values\n",
    "x = torch.randn(B, T, C)\n",
    "\n",
    "# a single Head for self-attention\n",
    "#head_size = 16 # video value\n",
    "head_size = 5 # WS value\n",
    "key   = nn.Linear(C, head_size, bias=False) # (C,head)\n",
    "query = nn.Linear(C, head_size, bias=False) # (C, head)\n",
    "value = nn.Linear(C, head_size, bias=False) # (C. head)\n",
    "k     = key(x)   # what the token CONTAINS, (B,T,C) @ (C,head) => (B,T,head): for every batch, token, there is a head vector of info about the token\n",
    "q     = query(x) # what the token is INTERESTED IN, (B,T,head)\n",
    "v     = value(x) # raw x is PRIVATE info about token (the original embedding): v is the info TO BE COMMUNICATED by the token (B,T,head)\n",
    "# self-attention means: the key and values both come from the same x\n",
    "# here's the magic to get the weights:\n",
    "# multiply by head_size**-5 to normalize the variance of the weights\n",
    "wei = q @ k.transpose(-2,-1) * head_size**-0.5 # (B,T,head) @ (B,head,T) => (B,T,T); transpose last two dimensions of k"
   ]
  },
  {
   "cell_type": "code",
   "execution_count": null,
   "id": "e0a790c3-0349-4ea3-952b-79d36cae0398",
   "metadata": {},
   "outputs": [],
   "source": [
    "wei"
   ]
  },
  {
   "cell_type": "code",
   "execution_count": null,
   "id": "7806f983-f82f-45bd-a29c-bd94a9921fac",
   "metadata": {},
   "outputs": [],
   "source": [
    "tril = torch.tril(torch.ones(T, T))\n",
    "# NOTE: in decoder methods, use the causal line below (ie, the future not known)\n",
    "#       in coder   methods, don't use the line below: all nodes can communicate\n",
    "wei  = wei.masked_fill(tril == 0, float('-inf'))\n",
    "wei  = F.softmax(wei, dim=-1)\n",
    "outx  = wei @ x\n",
    "outv  = wei @ v"
   ]
  },
  {
   "cell_type": "code",
   "execution_count": null,
   "id": "d04c2268-fccc-4624-8f21-753e1b4c038e",
   "metadata": {},
   "outputs": [],
   "source": [
    "wei, print(), x, print(), outx, print(), outv"
   ]
  },
  {
   "cell_type": "code",
   "execution_count": null,
   "id": "b9c31e74-2dc3-455a-a087-321a8e6ed5c3",
   "metadata": {},
   "outputs": [],
   "source": [
    "# demonstration of normalizing with head_size\n",
    "BB,TT,hhead_size = 4,8,16 # larger numbers for significance\n",
    "k = torch.randn(BB,TT,hhead_size)\n",
    "q = torch.randn(BB,TT,hhead_size)\n",
    "wei = q @ k.transpose(-2,-1) * hhead_size**-0.5\n",
    "k.var(), q.var(), wei.var()"
   ]
  },
  {
   "cell_type": "code",
   "execution_count": null,
   "id": "1e1246e0-436d-4aa7-83af-9347756fd34d",
   "metadata": {},
   "outputs": [],
   "source": []
  }
 ],
 "metadata": {
  "kernelspec": {
   "display_name": "Python 3 (ipykernel)",
   "language": "python",
   "name": "python3"
  },
  "language_info": {
   "codemirror_mode": {
    "name": "ipython",
    "version": 3
   },
   "file_extension": ".py",
   "mimetype": "text/x-python",
   "name": "python",
   "nbconvert_exporter": "python",
   "pygments_lexer": "ipython3",
   "version": "3.10.6"
  }
 },
 "nbformat": 4,
 "nbformat_minor": 5
}
