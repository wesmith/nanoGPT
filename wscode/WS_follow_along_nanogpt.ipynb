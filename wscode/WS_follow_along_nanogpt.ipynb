{
 "cells": [
  {
   "cell_type": "markdown",
   "id": "01ea635f-1030-45e7-a9e3-b1ccd2920e08",
   "metadata": {},
   "source": [
    "# WS_follow_along_nanogpt.ipynb\n",
    "# WESmith 06/10/23\n",
    "## follow along with Karpathy video\n",
    "## https://www.youtube.com/watch?v=kCc8FmEb1nY"
   ]
  },
  {
   "cell_type": "code",
   "execution_count": null,
   "id": "75a1c64e-95cc-410d-a983-d01a0df9c337",
   "metadata": {},
   "outputs": [],
   "source": [
    "import torch\n",
    "import torch.nn as nn\n",
    "import numpy    as np\n",
    "from   torch.nn import functional as F"
   ]
  },
  {
   "cell_type": "raw",
   "id": "d2778167-60b7-4039-8dd0-0ae208b203a3",
   "metadata": {},
   "source": [
    "# this worked, got input.txt\n",
    "!wget https://raw.githubusercontent.com/karpathy/char-rnn/master/data/tinyshakespeare/input.txt"
   ]
  },
  {
   "cell_type": "code",
   "execution_count": null,
   "id": "97e7d379-cafd-4fa2-974a-c50c0d4309ca",
   "metadata": {},
   "outputs": [],
   "source": [
    "# hyperparameters\n",
    "# apparently block_size is somehow coupled to other params to give best results:\n",
    "block_size    = 8    # number of context characters (original was 8, 12 gave garbage, 16 not as good as 8)\n",
    "n_embd        = 32   # size of embedding space\n",
    "head_size     = 16   # head size for self-attention\n",
    "n_head        = 4    # number of heads\n",
    "n_layer       = 3    # number of layers\n",
    "dropout       = 0.2\n",
    "\n",
    "batch_size    = 32\n",
    "max_iters     = 5000\n",
    "eval_interval = 500\n",
    "learning_rate = 1e-3\n",
    "eval_iters    = 200  # used in estimate_loss() function\n",
    "\n",
    "seed          = 1337\n",
    "device        = 'cpu'"
   ]
  },
  {
   "cell_type": "code",
   "execution_count": null,
   "id": "8fd0d167-3aa7-4e64-8298-67f9b5b999a1",
   "metadata": {},
   "outputs": [],
   "source": [
    "with open('input.txt', 'r', encoding='utf-8') as f:\n",
    "    text = f.read()"
   ]
  },
  {
   "cell_type": "code",
   "execution_count": null,
   "id": "8a021d2b-72ce-4af3-923a-c7cf28ca8c53",
   "metadata": {},
   "outputs": [],
   "source": [
    "len(text)"
   ]
  },
  {
   "cell_type": "code",
   "execution_count": null,
   "id": "1c2ddc08-c20d-4e04-a1be-f858b393636c",
   "metadata": {},
   "outputs": [],
   "source": [
    "text[:150]"
   ]
  },
  {
   "cell_type": "code",
   "execution_count": null,
   "id": "29854adf-e9bb-4d4e-ad83-525763261eb0",
   "metadata": {
    "tags": []
   },
   "outputs": [],
   "source": [
    "print(text[:150])"
   ]
  },
  {
   "cell_type": "raw",
   "id": "9c84c72f-c478-493c-bd59-28358d27ad1e",
   "metadata": {},
   "source": [
    "help(''.join)"
   ]
  },
  {
   "cell_type": "code",
   "execution_count": null,
   "id": "c79b848a-5458-4702-a18c-b49dc902fb58",
   "metadata": {},
   "outputs": [],
   "source": [
    "''.join(list(set(text)))"
   ]
  },
  {
   "cell_type": "code",
   "execution_count": null,
   "id": "0a2abdd0-591f-42a9-bfe3-4aa1a2aed290",
   "metadata": {},
   "outputs": [],
   "source": [
    "chars = sorted(list(set(text)))\n",
    "vocab_size = len(chars)\n",
    "''.join(chars)"
   ]
  },
  {
   "cell_type": "code",
   "execution_count": null,
   "id": "eed92286-3c19-4ded-ab2a-6a8ea916da92",
   "metadata": {},
   "outputs": [],
   "source": [
    "print(vocab_size)"
   ]
  },
  {
   "cell_type": "code",
   "execution_count": null,
   "id": "a93ec2a0-d427-4729-a008-56596dfd2f0f",
   "metadata": {},
   "outputs": [],
   "source": [
    "stoi = {ch:i for i, ch in enumerate(chars)}\n",
    "itos = {i:ch for i, ch in enumerate(chars)}\n",
    "encode = lambda s: [stoi[c] for c in s]\n",
    "decode = lambda l: ''.join([itos[i] for i in l])"
   ]
  },
  {
   "cell_type": "code",
   "execution_count": null,
   "id": "1ce507af-8400-477b-8034-659736b537bd",
   "metadata": {},
   "outputs": [],
   "source": [
    "decode([30])"
   ]
  },
  {
   "cell_type": "code",
   "execution_count": null,
   "id": "67ed7ffa-c059-44dc-a7de-aa56ee495efa",
   "metadata": {},
   "outputs": [],
   "source": [
    "print(encode('hii there,\\nyou'))\n",
    "print(decode(encode('hii there,\\nyou')))"
   ]
  },
  {
   "cell_type": "code",
   "execution_count": null,
   "id": "a1426f63-7b4c-4f71-aa2f-d1c4c7fe06ff",
   "metadata": {},
   "outputs": [],
   "source": [
    "data = torch.tensor(encode(text), dtype=torch.long)"
   ]
  },
  {
   "cell_type": "code",
   "execution_count": null,
   "id": "ee89bf57-4a59-40b6-818c-36c5d1070a99",
   "metadata": {},
   "outputs": [],
   "source": [
    "data.shape, data.dtype"
   ]
  },
  {
   "cell_type": "code",
   "execution_count": null,
   "id": "a1ac3f79-2f69-4121-bf29-681f89ff4ae8",
   "metadata": {
    "tags": []
   },
   "outputs": [],
   "source": [
    "print(data[:100])"
   ]
  },
  {
   "cell_type": "code",
   "execution_count": null,
   "id": "6b0850ff-f4f7-42cd-a22d-00443e4f5f2e",
   "metadata": {},
   "outputs": [],
   "source": [
    "n = int(0.9 * len(data))\n",
    "train_data = data[:n]\n",
    "val_data   = data[n:]"
   ]
  },
  {
   "cell_type": "code",
   "execution_count": null,
   "id": "a49f863c-442f-40c6-86ea-e40db1b9f15a",
   "metadata": {},
   "outputs": [],
   "source": [
    "train_data.shape, val_data.shape"
   ]
  },
  {
   "cell_type": "code",
   "execution_count": null,
   "id": "263a985c-0c6f-4b5a-84e1-e59eaac5edd8",
   "metadata": {},
   "outputs": [],
   "source": [
    "decode(train_data[:block_size + 1].numpy())  # WS grab the array with .numpy()"
   ]
  },
  {
   "cell_type": "code",
   "execution_count": null,
   "id": "c5f0d80b-111b-4f93-a1be-94d0b086037b",
   "metadata": {},
   "outputs": [],
   "source": [
    "train_data[1]"
   ]
  },
  {
   "cell_type": "code",
   "execution_count": null,
   "id": "a4ca6279-bbbd-4f9e-9c3a-af7d51df2b6b",
   "metadata": {},
   "outputs": [],
   "source": [
    "train_data[1].tolist()"
   ]
  },
  {
   "cell_type": "code",
   "execution_count": null,
   "id": "dc3b4d5b-08b3-4466-b8a6-3632709a5e94",
   "metadata": {},
   "outputs": [],
   "source": [
    "x = train_data[:block_size]       # context data\n",
    "y = train_data[1:block_size + 1]  # target data"
   ]
  },
  {
   "cell_type": "code",
   "execution_count": null,
   "id": "faaa333c-fb15-49fd-910e-cde5e5788f8d",
   "metadata": {},
   "outputs": [],
   "source": [
    "x, y"
   ]
  },
  {
   "cell_type": "code",
   "execution_count": null,
   "id": "73218b34-1f34-4238-9bbc-d60616fb9230",
   "metadata": {},
   "outputs": [],
   "source": [
    "for t in range(block_size):\n",
    "    context = x[:t + 1].tolist()  # WS added tolist() for decode()\n",
    "    target  = y[t].tolist()\n",
    "    print(f'when input is: {decode(context)} the target is: {decode([target])}')  # need to put target value into a list for decode()"
   ]
  },
  {
   "cell_type": "code",
   "execution_count": null,
   "id": "06ac1287-dd78-4eb4-b20a-56860fa96ea7",
   "metadata": {},
   "outputs": [],
   "source": [
    "torch.manual_seed(seed)"
   ]
  },
  {
   "cell_type": "code",
   "execution_count": null,
   "id": "6059b98e-ca64-47ea-85d3-3a4ad04020c0",
   "metadata": {},
   "outputs": [],
   "source": [
    "def get_batch(batch_size, split, block_size=8):  # WS added batch_size, block_size as args\n",
    "    data = train_data if split=='train' else val_data\n",
    "    ix = torch.randint(len(data) - block_size, (batch_size, ))\n",
    "    x  = torch.stack([data[i:i + block_size] for i in ix])\n",
    "    y  = torch.stack([data[i + 1:i + block_size + 1] for i in ix])\n",
    "    return x, y\n",
    "\n",
    "@torch.no_grad()\n",
    "def estimate_loss(model, batch_size):  # WS added model, batch_size as args, instead of relying on global\n",
    "    out = {}\n",
    "    model.eval() # set model to eval phase (check docs for meaning of this)\n",
    "    # presumably eval() and train() methods are in nn.Module parent class of model\n",
    "    for split in ['train', 'val']:\n",
    "        losses = torch.zeros(eval_iters)\n",
    "        for k in range(eval_iters):\n",
    "            X, Y = get_batch(batch_size, split)\n",
    "            _, loss = model(X, Y)\n",
    "            losses[k]    = loss.item()\n",
    "        out[split] = losses.mean()\n",
    "    model.train() # reset model back to training phase (check docs for meaning)\n",
    "    return out"
   ]
  },
  {
   "cell_type": "code",
   "execution_count": null,
   "id": "99ca0079-3de7-47eb-9535-c0b9fbe6f756",
   "metadata": {
    "tags": []
   },
   "outputs": [],
   "source": [
    "test_size = 4\n",
    "xb, yb = get_batch(test_size, 'train')\n",
    "print('inputs')\n",
    "print(xb.shape)\n",
    "print(xb)\n",
    "print('targets')\n",
    "print(yb.shape)\n",
    "print(yb)"
   ]
  },
  {
   "cell_type": "code",
   "execution_count": null,
   "id": "fece78f0-351e-4b97-9245-84ad211d49e2",
   "metadata": {
    "tags": []
   },
   "outputs": [],
   "source": [
    "for b in range(test_size):\n",
    "    for t in range(block_size):\n",
    "        context = xb[b, :t + 1]\n",
    "        target  = yb[b, t]\n",
    "        print(f'when input is: {decode(context.tolist())}| the target is: {decode([target.tolist()])}')"
   ]
  },
  {
   "cell_type": "markdown",
   "id": "ddaed6aa-6ddc-4e3b-bfc7-783c545e6cc1",
   "metadata": {},
   "source": [
    "## REVIEW OF HOW PyTorch EMBEDDING WORKS"
   ]
  },
  {
   "cell_type": "code",
   "execution_count": null,
   "id": "22d26803-feeb-468a-8392-1a3a923115b6",
   "metadata": {
    "tags": []
   },
   "outputs": [],
   "source": [
    "# WS a pytorch embedding is just a random mxn array\n",
    "dd = nn.Embedding(7,4)  # vocab_size x embedding_size (C for channel), 7 x 4\n",
    "ee = list(dd.parameters())  # parameters() is a generator, this returns a one-element list\n",
    "ee[0].shape\n",
    "ee[0].detach().numpy() # this is how to access the array"
   ]
  },
  {
   "cell_type": "code",
   "execution_count": null,
   "id": "1af2f237-a72e-4f68-8970-a19fe3d43781",
   "metadata": {
    "tags": []
   },
   "outputs": [],
   "source": [
    "# review of how embedding works: not a matrix multiply: each x value pulls out a row of the embedding table\n",
    "ff = torch.tensor([[2,1,5],[1,2,1]])  # batch (B) x num_chars (time or T), 2 x 3\n",
    "gg = dd(ff)  # batch x num_chars x C, 2 x 3 x 4: \n",
    "# thus embedding is (vocab_size, C), x is (B,T), output is (B,T,C): as if each scalar at B,T is replaced with a 1D array C long\n",
    "# vocab_size is lost, but the values of x must be in the range of vocab_size (ie, the values of x must be in the vocabulary)\n",
    "ff, gg"
   ]
  },
  {
   "cell_type": "code",
   "execution_count": null,
   "id": "2a83b8ca-b8b3-40c0-ae02-77dd56025dd0",
   "metadata": {},
   "outputs": [],
   "source": []
  },
  {
   "cell_type": "code",
   "execution_count": null,
   "id": "c7d8e16e-66a3-43ee-8cce-9304c75064f6",
   "metadata": {},
   "outputs": [],
   "source": [
    "class Head(nn.Module):\n",
    "    '''one head of self-attention'''\n",
    "    \n",
    "    def __init__(self, head_size, n_embd, block_size, dropout):  # WS added n_embd, block_size args\n",
    "        super().__init__()\n",
    "        self.head_size = head_size # WS added\n",
    "        self.key    = nn.Linear(n_embd, head_size, bias=False)\n",
    "        self.query  = nn.Linear(n_embd, head_size, bias=False)\n",
    "        self.value  = nn.Linear(n_embd, head_size, bias=False)  # WS! should this be (n_embd, n_embd)? see comment below\n",
    "        self.register_buffer('tril', torch.tril(torch.ones(block_size, block_size)))\n",
    "        self.dropout = nn.Dropout(dropout)\n",
    "        \n",
    "    def forward(self, x):\n",
    "        B,T,C = x.shape   # C is n_embd\n",
    "        k = self.key(x)   # (B,T,C) @ (C,head_size) => (B,T,head_size)\n",
    "        q = self.query(x) # (B,T,head_size)\n",
    "        \n",
    "        # compute attention scores ('affinities')\n",
    "        # WS comment: is the following line incorrect? supposed to be normalizing by head_size, not C = n_embd\n",
    "        #wei = q @ k.transpose(-2,-1) * C**-0.5 # (B,T,head_size) @ (B,head_size,T) => (B,T,T)\n",
    "        wei = q @ k.transpose(-2,-1) * self.head_size**-0.5  # WS mod\n",
    "        wei = wei.masked_fill(self.tril[:T, :T] == 0, float('-inf'))\n",
    "        #print(f'Head: k.shape {k.shape} q.shape {q.shape} wei.shape {wei.shape}')\n",
    "        wei = F.softmax(wei, dim=-1) # (B,T,T)\n",
    "        wei = self.dropout(wei)\n",
    "        # perform the weighted aggregation of the values\n",
    "        v = self.value(x) # (B,T,C) @ (C,head_size) => (B,T,head_size)\n",
    "        out = wei @ v # (B,T,T) @ (B,T,head_size) => (B,T,head_size) # WS! this is a problem: it is returning head_size instead of n_embd\n",
    "        #print(f'Head: out.shape {out.shape}')\n",
    "        return out\n"
   ]
  },
  {
   "cell_type": "code",
   "execution_count": null,
   "id": "d9ac17b8-3192-42c7-8fa1-29de34c01e3a",
   "metadata": {},
   "outputs": [],
   "source": [
    "class MultiHeadAttention(nn.Module):\n",
    "    '''multiple heads of self-attention in parallel'''\n",
    "    \n",
    "    def __init__(self, num_heads, head_size, n_embd, block_size, dropout):  # WS added args\n",
    "        super().__init__()\n",
    "        self.heads   = nn.ModuleList([Head(head_size, n_embd, block_size, dropout) for _ in range(num_heads)])\n",
    "        self.proj    = nn.Linear(n_embd, n_embd)  # not clear why added: added at 1h 31m in video\n",
    "        self.dropout = nn.Dropout(dropout)\n",
    "        \n",
    "    def forward(self, x):\n",
    "        out = torch.cat([h(x) for h in self.heads], dim=-1) # concatenate over channel dim (head_size)\n",
    "        out = self.dropout(self.proj(out))\n",
    "        return out"
   ]
  },
  {
   "cell_type": "code",
   "execution_count": null,
   "id": "08213f49-26e2-4db5-b7da-0f527a48c7c7",
   "metadata": {},
   "outputs": [],
   "source": [
    "class FeedForward(nn.Module):\n",
    "    '''a simple linear layer followed by a nonlinearity'''\n",
    "    \n",
    "    def __init__(self, n_embd, dropout):\n",
    "        super().__init__()\n",
    "        self.net = nn.Sequential(\n",
    "            nn.Linear(n_embd, 4 * n_embd), # factor of 4 from 2017 paper: black magic\n",
    "            nn.ReLU(),\n",
    "            nn.Linear(4 * n_embd, n_embd),   # this is the 'proj' network\n",
    "            nn.Dropout(dropout), )\n",
    "        \n",
    "    def forward(self, x):\n",
    "        return self.net(x)"
   ]
  },
  {
   "cell_type": "code",
   "execution_count": null,
   "id": "9b7a4fb9-5f23-4ffd-bf53-890e2bd7a03e",
   "metadata": {},
   "outputs": [],
   "source": [
    "class Block(nn.Module):\n",
    "    '''Transformer block: communication followed by computation'''\n",
    "    \n",
    "    def __init__(self, n_embd, n_head, block_size, dropout):  # WS added arg\n",
    "        # n_embd: embedding dim, n_head: number of heads\n",
    "        super().__init__()\n",
    "        head_size = n_embd // n_head  # WS guarantees (assuming no roundoff error) that final concatenated output has size n_embd\n",
    "        self.sa   = MultiHeadAttention(n_head, head_size, n_embd, block_size, dropout)  # 'sa' for self-attention\n",
    "        self.ffwd = FeedForward(n_embd, dropout)\n",
    "        self.ln1  = nn.LayerNorm(n_embd)  # layernorm discussion starts around 1h 33m in video: slight departure from 2017 paper\n",
    "        self.ln2  = nn.LayerNorm(n_embd)\n",
    "\n",
    "    def forward(self, x):\n",
    "        x = x + self.sa(self.ln1(x)) # 'skip' approach\n",
    "        x = x + self.ffwd(self.ln2(x))\n",
    "        return x"
   ]
  },
  {
   "cell_type": "code",
   "execution_count": null,
   "id": "ef940fbd-2362-4fac-81b0-2448a281b0f5",
   "metadata": {},
   "outputs": [],
   "source": [
    "# bigram model seed\n",
    "torch.manual_seed(seed)\n",
    "\n",
    "class BigramLanguageModel(nn.Module):\n",
    "    \n",
    "    def __init__(self, vocab_size, block_size, n_embd, head_size, n_head, n_layer, dropout):  # WS added args\n",
    "        super().__init__()\n",
    "        # create a random embedding matrix\n",
    "        self.token_embedding_table    = nn.Embedding(vocab_size, n_embd) # size (vocab, C) C is embedding size n_embd\n",
    "        self.position_embedding_table = nn.Embedding(block_size, n_embd)\n",
    "        \n",
    "        # !WS NOTE: head_size set to n_embd here, may change later: if head_size != n_embd code crashes in the current form\n",
    "        # this comment made in the video at 1h 20m 25s in video: 'keeping head size as n_embd just for now'\n",
    "        #self.sa_head                  = Head(n_embd, n_embd, block_size)\n",
    "        \n",
    "        # since each head size is 8, and 4 heads will be concatenated, the final channel size is 32, which matches n_embd\n",
    "        # if n_embd size isn't matched by head_size x num_heads, an error will result in lm_head() matrix multiply with existing code\n",
    "        #self.sa_heads = MultiHeadAttention(4, n_embd//4, n_embd, block_size) # 4 heads, head_size = 8 for n_embd = 32\n",
    "        #self.ffwd = FeedForward(n_embd)\n",
    "        \n",
    "        '''\n",
    "        self.blocks = nn.Sequential(\n",
    "            Block(n_embd, n_head=4, block_size=block_size),\n",
    "            Block(n_embd, n_head=4, block_size=block_size),\n",
    "            Block(n_embd, n_head=4, block_size=block_size),\n",
    "            nn.LayerNorm(n_embd))\n",
    "        '''\n",
    "        # the '*' indicates a list is input\n",
    "        self.blocks = nn.Sequential(*[Block(n_embd, n_head=n_head, block_size=block_size, dropout=dropout) for _ in range(n_layer)])\n",
    "        self.ln_f   = nn.LayerNorm(n_embd)  # final layer norm\n",
    "        \n",
    "        # lm_head means 'language-modeling head'\n",
    "        # WS note: to be most general, the input dimension of lm_head must be head_number * head_size, since this is the\n",
    "        #          final size of the concatenated multihead output\n",
    "        self.lm_head    = nn.Linear(n_embd, vocab_size)  # this introduced in video at 59m\n",
    "        \n",
    "        #self.vocab_size = vocab_size  # WS\n",
    "        self.block_size = block_size  # WS\n",
    "        #self.n_embd     = n_embd      # WS\n",
    "        #self.head_size  = head_size   # WS\n",
    "        \n",
    "    def forward(self, idx, targets=None):\n",
    "        # B = batch, T = time, C = channel (embedding dimension size n_embd)\n",
    "        # idx and targets are each (B,T) tensors of integers\n",
    "        B, T = idx.shape\n",
    "        tok_emb = self.token_embedding_table(idx) # size (B,T,C)\n",
    "        pos_emb = self.position_embedding_table(torch.arange(T, device=device)) # (T,C)\n",
    "        x = tok_emb + pos_emb # (B,T,C) due to broadcasting of pos_emb over B\n",
    "        #x = self.sa_head(x) # apply one head of self-attention, (B,T,C)\n",
    "        #x = self.sa_heads(x) # multiple heads\n",
    "        #x = self.ffwd(x) # (B,T,C)\n",
    "        x = self.blocks(x) # (B,T,C)\n",
    "        x = self.ln_f(x)   # (B,T,C)\n",
    "        #print(f'x.shape = {x.shape}') #', lm_head.shape = {self.lm_head.shape}')\n",
    "        logits  = self.lm_head(x) # (B,T,C) @ (C,vocab_zsize) => (B,T,vocab_size)\n",
    "        \n",
    "        if targets is None:\n",
    "            loss = None\n",
    "        else:\n",
    "            # this is training the embedding matrix\n",
    "            B, T, C = logits.shape\n",
    "            logits  = logits.view(B * T, C)  # reshape for cross_entropy\n",
    "            targets = targets.view(B * T)    # ditto (or could do ...view(-1))\n",
    "            loss    = F.cross_entropy(logits, targets)\n",
    "        \n",
    "        return logits, loss\n",
    "    \n",
    "    # this function is more general than a digraph model (block_size = 1) requires, \n",
    "    # for use later with longer values pf block_size\n",
    "    def generate(self, idx, max_new_tokens):\n",
    "        # idx is a (B, T) array of indices in the current context\n",
    "        for _ in range(max_new_tokens):\n",
    "            # crop idx to the last block_size tokens\n",
    "            idx_cond = idx[:, -self.block_size:]\n",
    "            # get the predictions\n",
    "            logits, loss = self(idx_cond)\n",
    "            # focus only on the last time step\n",
    "            logits = logits[:, -1, :] # this becomes (B, C)\n",
    "            # apply softmax to get probs\n",
    "            probs = F.softmax(logits, dim=-1) # (B, C)\n",
    "            # sample\n",
    "            idx_next = torch.multinomial(probs, num_samples=1) # (B, 1)\n",
    "            # append sampled index to the running sequence\n",
    "            idx = torch.cat((idx, idx_next), dim=1) # (B, T + 1)\n",
    "        return idx\n",
    "        "
   ]
  },
  {
   "cell_type": "code",
   "execution_count": null,
   "id": "510bfb7f-2fc4-4401-bb78-048c38349159",
   "metadata": {},
   "outputs": [],
   "source": [
    "# build the model, get the data\n",
    "xb, yb = get_batch(batch_size, 'train')\n",
    "model = BigramLanguageModel(vocab_size, block_size, n_embd, head_size, n_head, n_layer, dropout)\n",
    "m     = model.to(device)\n",
    "out, loss = m(xb, yb)\n",
    "out.shape, loss.item()"
   ]
  },
  {
   "cell_type": "code",
   "execution_count": null,
   "id": "3dc4d6e2-0adf-4fb3-a24f-2a305081e852",
   "metadata": {
    "tags": []
   },
   "outputs": [],
   "source": [
    "batch = 1  # WS mod\n",
    "idx = torch.zeros((batch, 1), dtype=torch.long)\n",
    "out = m.generate(idx, max_new_tokens=500)\n",
    "#print(out.shape)\n",
    "for k in out:\n",
    "    print(decode(k.tolist()))"
   ]
  },
  {
   "cell_type": "code",
   "execution_count": null,
   "id": "9fc0d040-7108-4e39-8b3e-9ba248232cf9",
   "metadata": {},
   "outputs": [],
   "source": [
    "# create a PyTorch optimizer\n",
    "optimizer = torch.optim.AdamW(model.parameters(), lr=learning_rate)\n",
    "\n",
    "# training\n",
    "for iter in range(max_iters + 1):  # WS added 1 to get last result to print\n",
    "    \n",
    "    if iter % eval_interval == 0:\n",
    "        losses = estimate_loss(model, batch_size)\n",
    "        print(f\"step {iter:5}: train loss {losses['train']:.4f}, val loss {losses['val']:.4f}\")\n",
    "    \n",
    "    xb, yb = get_batch(batch_size, 'train')\n",
    "    \n",
    "    logits, loss = model(xb, yb)\n",
    "    optimizer.zero_grad(set_to_none=True)\n",
    "    loss.backward()\n",
    "    optimizer.step()"
   ]
  },
  {
   "cell_type": "code",
   "execution_count": null,
   "id": "4026252e-48e7-4d46-9ddd-349418f29122",
   "metadata": {
    "tags": []
   },
   "outputs": [],
   "source": [
    "context = torch.zeros((1,1), dtype=torch.long, device=device)\n",
    "print(decode(m.generate(context, max_new_tokens=500)[0].tolist()))"
   ]
  },
  {
   "cell_type": "markdown",
   "id": "225ead7d-9d2b-4c1b-b407-472b2ac35ca6",
   "metadata": {},
   "source": [
    "# The mathematical trick in self-attention"
   ]
  },
  {
   "cell_type": "code",
   "execution_count": null,
   "id": "213f2c24-43b7-4176-9d03-e81d45b44fe7",
   "metadata": {
    "tags": []
   },
   "outputs": [],
   "source": [
    "# setup\n",
    "torch.manual_seed(seed)\n",
    "#B,T,C = 4, 8, 32 # batch, time, channels (encoding size): video values\n",
    "B,T,C = 2, 3, 4 # WS values\n",
    "#x = torch.randn(B, T, C) # video values\n",
    "x = torch.reshape(torch.arange(0, B*T*C).float(), (B,T,C))  # WS\n",
    "x"
   ]
  },
  {
   "cell_type": "code",
   "execution_count": null,
   "id": "90e32f46-92bf-4f62-8841-845a9ae76174",
   "metadata": {
    "tags": []
   },
   "outputs": [],
   "source": [
    "# version 1: explicit calculation of progressive means of rows\n",
    "# we want x[b, t] = mean_{i<=t} x[b, i]\n",
    "# ie, calculate the average of what comes before the ith token\n",
    "# and include the ith token in the average\n",
    "xbow = torch.zeros((B, T, C)) # bow = 'bag of words'\n",
    "for b in range(B):\n",
    "    for t in range(T):\n",
    "        xprev = x[b,:t+1] # (T, C)\n",
    "        xbow[b, t] = torch.mean(xprev, 0) # (C)\n",
    "xbow  # first row is preserved, second row is average of first two rows, third row is average of first three rows"
   ]
  },
  {
   "cell_type": "code",
   "execution_count": null,
   "id": "a75d91b1-89ea-4965-a88c-be205b6fbb2a",
   "metadata": {},
   "outputs": [],
   "source": [
    "# version 2: use triangle matrix\n",
    "wei = torch.tril(torch.ones(T, T))\n",
    "wei = wei / wei.sum(1, keepdim=True)\n",
    "xbow2 = wei @ x # (T,T) @ (B,T,C) => (B,T,C) (wei is broadcast over B)\n",
    "torch.allclose(xbow, xbow2)"
   ]
  },
  {
   "cell_type": "code",
   "execution_count": null,
   "id": "71fffb53-010a-4144-960b-c644bf60785c",
   "metadata": {},
   "outputs": [],
   "source": [
    "wei"
   ]
  },
  {
   "cell_type": "code",
   "execution_count": null,
   "id": "a13a1e1a-6e21-4c26-b5b8-7a86583f08b5",
   "metadata": {},
   "outputs": [],
   "source": [
    "# version 3: use softmax\n",
    "tril = torch.tril(torch.ones(T, T))\n",
    "wei  = torch.zeros((T, T))\n",
    "wei  = wei.masked_fill(tril == 0, float('-inf'))\n",
    "wei  = F.softmax(wei, dim=-1)  # normalize along last dimension\n",
    "xbow3 = wei @ x\n",
    "torch.allclose(xbow, xbow3)"
   ]
  },
  {
   "cell_type": "code",
   "execution_count": null,
   "id": "70853686-67f7-4d19-a05d-0c65d66b2357",
   "metadata": {},
   "outputs": [],
   "source": [
    "# version 4: self attention!\n",
    "torch.manual_seed(seed)\n",
    "#B,T,C = 4,8,32 # batch, time, channels, video values\n",
    "B,T,C = 2,3,4 # WS values\n",
    "x = torch.randn(B, T, C)\n",
    "\n",
    "# a single Head for self-attention\n",
    "#head_size = 16 # video value\n",
    "head_size = 5 # WS value\n",
    "key   = nn.Linear(C, head_size, bias=False) # (C,head)\n",
    "query = nn.Linear(C, head_size, bias=False) # (C, head)\n",
    "value = nn.Linear(C, head_size, bias=False) # (C. head)\n",
    "k     = key(x)   # what the token CONTAINS, (B,T,C) @ (C,head) => (B,T,head): for every batch, token, there is a head vector of info about the token\n",
    "q     = query(x) # what the token is INTERESTED IN, (B,T,head)\n",
    "v     = value(x) # raw x is PRIVATE info about token (the original embedding): v is the info TO BE COMMUNICATED by the token (B,T,head)\n",
    "# self-attention means: the key and values both come from the same x\n",
    "# here's the magic to get the weights:\n",
    "# multiply by head_size**-5 to normalize the variance of the weights\n",
    "wei = q @ k.transpose(-2,-1) * head_size**-0.5 # (B,T,head) @ (B,head,T) => (B,T,T); transpose last two dimensions of k"
   ]
  },
  {
   "cell_type": "code",
   "execution_count": null,
   "id": "e0a790c3-0349-4ea3-952b-79d36cae0398",
   "metadata": {},
   "outputs": [],
   "source": [
    "wei"
   ]
  },
  {
   "cell_type": "code",
   "execution_count": null,
   "id": "7806f983-f82f-45bd-a29c-bd94a9921fac",
   "metadata": {},
   "outputs": [],
   "source": [
    "tril = torch.tril(torch.ones(T, T))\n",
    "# NOTE: in decoder methods, use the causal line below (ie, the future not known)\n",
    "#       in coder   methods, don't use the line below: all nodes can communicate\n",
    "wei  = wei.masked_fill(tril == 0, float('-inf'))\n",
    "wei  = F.softmax(wei, dim=-1)\n",
    "outx  = wei @ x\n",
    "outv  = wei @ v"
   ]
  },
  {
   "cell_type": "code",
   "execution_count": null,
   "id": "d04c2268-fccc-4624-8f21-753e1b4c038e",
   "metadata": {},
   "outputs": [],
   "source": [
    "wei, print(), x, print(), outx, print(), outv"
   ]
  },
  {
   "cell_type": "code",
   "execution_count": null,
   "id": "b9c31e74-2dc3-455a-a087-321a8e6ed5c3",
   "metadata": {},
   "outputs": [],
   "source": [
    "# demonstration of normalizing with head_size\n",
    "BB,TT,hhead_size = 4,8,16 # larger numbers for significance\n",
    "k = torch.randn(BB,TT,hhead_size)\n",
    "q = torch.randn(BB,TT,hhead_size)\n",
    "wei = q @ k.transpose(-2,-1) * hhead_size**-0.5\n",
    "k.var(), q.var(), wei.var()"
   ]
  },
  {
   "cell_type": "code",
   "execution_count": null,
   "id": "1e1246e0-436d-4aa7-83af-9347756fd34d",
   "metadata": {},
   "outputs": [],
   "source": []
  }
 ],
 "metadata": {
  "kernelspec": {
   "display_name": "Python 3 (ipykernel)",
   "language": "python",
   "name": "python3"
  },
  "language_info": {
   "codemirror_mode": {
    "name": "ipython",
    "version": 3
   },
   "file_extension": ".py",
   "mimetype": "text/x-python",
   "name": "python",
   "nbconvert_exporter": "python",
   "pygments_lexer": "ipython3",
   "version": "3.10.6"
  }
 },
 "nbformat": 4,
 "nbformat_minor": 5
}
