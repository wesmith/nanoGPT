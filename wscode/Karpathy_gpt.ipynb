{
 "cells": [
  {
   "cell_type": "markdown",
   "id": "3334ad44-3421-4409-8cc5-36dbfb6d8b98",
   "metadata": {},
   "source": [
    "# Karpathy_gpt.ipynb\n",
    "# WESmith 06/16/23\n",
    "# copied gpt.py from Karpathy's ng-video-lecture github repo, to put into a notebook to run on colab\n",
    "## This ran for 49m on a colab GPU with the parameters below on 6/16/23. \n",
    "## The training file was saved as 230616-210000_model.pt on the local machine. \n",
    "## It achieved lower losses than in the Karpathy video\n",
    "## https://www.youtube.com/watch?v=kCc8FmEb1nY shown at 1h 41m: \n",
    "## this code may have been improved upon subsequent to the code described in the video. "
   ]
  },
  {
   "cell_type": "code",
   "execution_count": null,
   "id": "133672d6-3cf1-446a-a390-339d6420a062",
   "metadata": {},
   "outputs": [],
   "source": [
    "import torch\n",
    "import torch.nn as nn\n",
    "from torch.nn import functional as F"
   ]
  },
  {
   "cell_type": "code",
   "execution_count": null,
   "id": "ead8d1f6-b713-4cee-a30f-d67a993bdd04",
   "metadata": {},
   "outputs": [],
   "source": [
    "colab            = False  # WS mod: set to true on colab machine\n",
    "save_trained_net = False  # WS mod: set to true to save training (usually on colab)\n",
    "load_trained_net = True   # WS mod: set to true on non-GPU machine to read trained net\n",
    "\n",
    "# hyperparameters (WS: Karpathy's original values in parens)\n",
    "batch_size    = 64   # (64)\n",
    "block_size    = 256  # (256) context length for predictions\n",
    "max_iters     = 5000 # (5000)\n",
    "eval_interval = 500  # (500)\n",
    "learning_rate = 3e-4 # (3e-4)\n",
    "eval_iters    = 200  # (200)\n",
    "n_embd        = 384  # (384)\n",
    "n_head        = 6    # (6)\n",
    "n_layer       = 6    # (6)\n",
    "dropout       = 0.2  # (0.2)\n",
    "# ------------\n",
    "torch.manual_seed(1337)  # (1337)\n",
    "device = 'cuda' if torch.cuda.is_available() else 'cpu'\n",
    "device"
   ]
  },
  {
   "cell_type": "code",
   "execution_count": null,
   "id": "d9315d0f-ddd1-46e1-8a0b-e4a17df6039b",
   "metadata": {},
   "outputs": [],
   "source": [
    "# !wget https://raw.githubusercontent.com/karpathy/char-rnn/master/data/tinyshakespeare/input.txt\n",
    "with open('input.txt', 'r', encoding='utf-8') as f:\n",
    "    text = f.read()"
   ]
  },
  {
   "cell_type": "code",
   "execution_count": null,
   "id": "5e22c530-1937-444f-a047-1aaa9a32b9b5",
   "metadata": {},
   "outputs": [],
   "source": [
    "# here are all the unique characters that occur in this text\n",
    "chars      = sorted(list(set(text)))\n",
    "vocab_size = len(chars)\n",
    "# create a mapping from characters to integers\n",
    "stoi   = { ch:i for i,ch in enumerate(chars) }\n",
    "itos   = { i:ch for i,ch in enumerate(chars) }\n",
    "encode = lambda s: [stoi[c] for c in s] # encoder: take a string, output a list of integers\n",
    "decode = lambda l: ''.join([itos[i] for i in l]) # decoder: take a list of integers, output a string"
   ]
  },
  {
   "cell_type": "code",
   "execution_count": null,
   "id": "b07b4023-d1ca-4a23-aa81-5a082b4cb12a",
   "metadata": {},
   "outputs": [],
   "source": [
    "# Train and test splits\n",
    "data = torch.tensor(encode(text), dtype=torch.long)\n",
    "n    = int(0.9*len(data)) # first 90% will be train, the rest is val\n",
    "train_data = data[:n]\n",
    "val_data   = data[n:]"
   ]
  },
  {
   "cell_type": "code",
   "execution_count": null,
   "id": "feb19b59-2bd6-4e6c-a8ab-7ac2253db8fc",
   "metadata": {},
   "outputs": [],
   "source": [
    "# data loading\n",
    "def get_batch(split):\n",
    "    # generate a small batch of data of inputs x and targets y\n",
    "    data = train_data if split == 'train' else val_data\n",
    "    ix   = torch.randint(len(data) - block_size, (batch_size,))\n",
    "    x    = torch.stack([data[i:i+block_size] for i in ix])\n",
    "    y    = torch.stack([data[i+1:i+block_size+1] for i in ix])\n",
    "    x, y = x.to(device), y.to(device)\n",
    "    return x, y\n",
    "\n",
    "@torch.no_grad()\n",
    "def estimate_loss(eval_iters=200): # WS added arg\n",
    "    out = {}\n",
    "    model.eval()\n",
    "    for split in ['train', 'val']:\n",
    "        losses = torch.zeros(eval_iters)\n",
    "        for k in range(eval_iters):\n",
    "            X, Y = get_batch(split)\n",
    "            logits, loss = model(X, Y)\n",
    "            losses[k] = loss.item()\n",
    "        out[split] = losses.mean()\n",
    "    model.train()\n",
    "    return out\n",
    "\n",
    "class Head(nn.Module):\n",
    "    \"\"\" one head of self-attention \"\"\"\n",
    "\n",
    "    def __init__(self, head_size):\n",
    "        super().__init__()\n",
    "        self.key   = nn.Linear(n_embd, head_size, bias=False)\n",
    "        self.query = nn.Linear(n_embd, head_size, bias=False)\n",
    "        self.value = nn.Linear(n_embd, head_size, bias=False)\n",
    "        self.register_buffer('tril', torch.tril(torch.ones(block_size, block_size)))\n",
    "        self.dropout = nn.Dropout(dropout)\n",
    "\n",
    "    def forward(self, x):\n",
    "        # input of size (batch, time-step, channels)\n",
    "        # output of size (batch, time-step, head size)\n",
    "        B,T,C = x.shape\n",
    "        k = self.key(x)   # (B,T,hs)\n",
    "        q = self.query(x) # (B,T,hs)\n",
    "        # compute attention scores (\"affinities\")\n",
    "        wei = q @ k.transpose(-2,-1) * k.shape[-1]**-0.5 # (B, T, hs) @ (B, hs, T) -> (B, T, T)\n",
    "        wei = wei.masked_fill(self.tril[:T, :T] == 0, float('-inf')) # (B, T, T)\n",
    "        wei = F.softmax(wei, dim=-1) # (B, T, T)\n",
    "        wei = self.dropout(wei)\n",
    "        # perform the weighted aggregation of the values\n",
    "        v = self.value(x) # (B,T,hs)\n",
    "        out = wei @ v # (B, T, T) @ (B, T, hs) -> (B, T, hs)\n",
    "        return out\n",
    "\n",
    "class MultiHeadAttention(nn.Module):\n",
    "    \"\"\" multiple heads of self-attention in parallel \"\"\"\n",
    "\n",
    "    def __init__(self, num_heads, head_size):\n",
    "        super().__init__()\n",
    "        self.heads   = nn.ModuleList([Head(head_size) for _ in range(num_heads)])\n",
    "        self.proj    = nn.Linear(head_size * num_heads, n_embd)\n",
    "        self.dropout = nn.Dropout(dropout)\n",
    "\n",
    "    def forward(self, x):\n",
    "        out = torch.cat([h(x) for h in self.heads], dim=-1)\n",
    "        out = self.dropout(self.proj(out))\n",
    "        return out\n",
    "\n",
    "class FeedFoward(nn.Module):\n",
    "    \"\"\" a simple linear layer followed by a non-linearity \"\"\"\n",
    "\n",
    "    def __init__(self, n_embd):\n",
    "        super().__init__()\n",
    "        self.net = nn.Sequential(\n",
    "            nn.Linear(n_embd, 4 * n_embd),\n",
    "            nn.ReLU(),\n",
    "            nn.Linear(4 * n_embd, n_embd),\n",
    "            nn.Dropout(dropout),\n",
    "        )\n",
    "\n",
    "    def forward(self, x):\n",
    "        return self.net(x)\n",
    "\n",
    "class Block(nn.Module):\n",
    "    \"\"\" Transformer block: communication followed by computation \"\"\"\n",
    "\n",
    "    def __init__(self, n_embd, n_head):\n",
    "        # n_embd: embedding dimension, n_head: the number of heads we'd like\n",
    "        super().__init__()\n",
    "        head_size = n_embd // n_head\n",
    "        self.sa   = MultiHeadAttention(n_head, head_size)\n",
    "        self.ffwd = FeedFoward(n_embd)\n",
    "        self.ln1  = nn.LayerNorm(n_embd)\n",
    "        self.ln2  = nn.LayerNorm(n_embd)\n",
    "\n",
    "    def forward(self, x):\n",
    "        x = x + self.sa(self.ln1(x))\n",
    "        x = x + self.ffwd(self.ln2(x))\n",
    "        return x\n",
    "\n",
    "class GPTLanguageModel(nn.Module):\n",
    "\n",
    "    def __init__(self):\n",
    "        super().__init__()\n",
    "        # each token directly reads off the logits for the next token from a lookup table\n",
    "        self.token_embedding_table    = nn.Embedding(vocab_size, n_embd)\n",
    "        self.position_embedding_table = nn.Embedding(block_size, n_embd)\n",
    "        self.blocks  = nn.Sequential(*[Block(n_embd, n_head=n_head) for _ in range(n_layer)])\n",
    "        self.ln_f    = nn.LayerNorm(n_embd) # final layer norm\n",
    "        self.lm_head = nn.Linear(n_embd, vocab_size)\n",
    "\n",
    "        # better init, not covered in the original GPT video, but important, will cover in followup video\n",
    "        self.apply(self._init_weights)\n",
    "\n",
    "    def _init_weights(self, module):\n",
    "        if isinstance(module, nn.Linear):\n",
    "            torch.nn.init.normal_(module.weight, mean=0.0, std=0.02)\n",
    "            if module.bias is not None:\n",
    "                torch.nn.init.zeros_(module.bias)\n",
    "        elif isinstance(module, nn.Embedding):\n",
    "            torch.nn.init.normal_(module.weight, mean=0.0, std=0.02)\n",
    "\n",
    "    def forward(self, idx, targets=None):\n",
    "        B, T = idx.shape\n",
    "\n",
    "        # idx and targets are both (B,T) tensor of integers\n",
    "        tok_emb = self.token_embedding_table(idx) # (B,T,C)\n",
    "        pos_emb = self.position_embedding_table(torch.arange(T, device=device)) # (T,C)\n",
    "        x = tok_emb + pos_emb # (B,T,C)\n",
    "        x = self.blocks(x) # (B,T,C)\n",
    "        x = self.ln_f(x) # (B,T,C)\n",
    "        logits = self.lm_head(x) # (B,T,vocab_size)\n",
    "\n",
    "        if targets is None:\n",
    "            loss = None\n",
    "        else:\n",
    "            B, T, C = logits.shape\n",
    "            logits = logits.view(B*T, C)\n",
    "            targets = targets.view(B*T)\n",
    "            loss = F.cross_entropy(logits, targets)\n",
    "\n",
    "        return logits, loss\n",
    "\n",
    "    def generate(self, idx, max_new_tokens):\n",
    "        # idx is (B, T) array of indices in the current context\n",
    "        for _ in range(max_new_tokens):\n",
    "            # crop idx to the last block_size tokens\n",
    "            idx_cond = idx[:, -block_size:]\n",
    "            # get the predictions\n",
    "            logits, loss = self(idx_cond)\n",
    "            # focus only on the last time step\n",
    "            logits = logits[:, -1, :] # becomes (B, C)\n",
    "            # apply softmax to get probabilities\n",
    "            probs = F.softmax(logits, dim=-1) # (B, C)\n",
    "            # sample from the distribution\n",
    "            idx_next = torch.multinomial(probs, num_samples=1) # (B, 1)\n",
    "            # append sampled index to the running sequence\n",
    "            idx = torch.cat((idx, idx_next), dim=1) # (B, T+1)\n",
    "        return idx"
   ]
  },
  {
   "cell_type": "code",
   "execution_count": null,
   "id": "bb8a8695-23c2-4d85-87b7-a7e32645dd10",
   "metadata": {},
   "outputs": [],
   "source": [
    "model = GPTLanguageModel()\n",
    "m     = model.to(device)"
   ]
  },
  {
   "cell_type": "code",
   "execution_count": null,
   "id": "a2f31951-ca7f-4af8-8845-0f8997cc73e1",
   "metadata": {},
   "outputs": [],
   "source": [
    "num = sum(p.numel() for p in m.parameters())\n",
    "print(f'The model has {num:.5g} parameters.')"
   ]
  },
  {
   "cell_type": "code",
   "execution_count": null,
   "id": "5bb59f40-4df5-413a-a176-415c242ae0ae",
   "metadata": {},
   "outputs": [],
   "source": [
    "#print(m)  # text description of the model"
   ]
  },
  {
   "cell_type": "markdown",
   "id": "0d866d64-37b9-4224-bb3a-e976cd6207f5",
   "metadata": {},
   "source": [
    "# TRAINING"
   ]
  },
  {
   "cell_type": "code",
   "execution_count": null,
   "id": "3cca38f8-af94-4037-afa3-548459a5d766",
   "metadata": {},
   "outputs": [],
   "source": [
    "if colab: # only train this large net on a GPU\n",
    "    # create a PyTorch optimizer\n",
    "    optimizer = torch.optim.AdamW(model.parameters(), lr=learning_rate)\n",
    "\n",
    "    for iter in range(max_iters):\n",
    "\n",
    "        # every once in a while evaluate the loss on train and val sets\n",
    "        if iter % eval_interval == 0 or iter == max_iters - 1:\n",
    "            losses = estimate_loss()\n",
    "            print(f\"step {iter}: train loss {losses['train']:.4f}, val loss {losses['val']:.4f}\")\n",
    "\n",
    "        # sample a batch of data\n",
    "        xb, yb = get_batch('train')\n",
    "\n",
    "        # evaluate the loss\n",
    "        logits, loss = model(xb, yb)\n",
    "        optimizer.zero_grad(set_to_none=True)\n",
    "        loss.backward()\n",
    "        optimizer.step()"
   ]
  },
  {
   "cell_type": "markdown",
   "id": "7df8ee8c-5e28-4f26-9bbe-2c27c3030e62",
   "metadata": {},
   "source": [
    "## READ IN TRAINED NETWORK (FROM COLAB, FOR EXAMPLE)"
   ]
  },
  {
   "cell_type": "code",
   "execution_count": null,
   "id": "714a3b3a-b33c-42db-bbda-215c0c2fac3d",
   "metadata": {
    "tags": []
   },
   "outputs": [],
   "source": [
    "filename = '230616-210000_model.pt'  # change this to desired trained data\n",
    "if load_trained_net:\n",
    "    model.load_state_dict(torch.load(filename, map_location=torch.device(device)))\n",
    "    model.eval()"
   ]
  },
  {
   "cell_type": "code",
   "execution_count": null,
   "id": "d9f7f002-d8e8-4aca-9827-cb369eb7527a",
   "metadata": {},
   "outputs": [],
   "source": [
    "filename = 'model.pt'  # change the name after downloading to local machine\n",
    "if save_trained_net:\n",
    "    from google.colab import files\n",
    "    torch.save(model.state_dict(), filename)\n",
    "    files.download(filename)"
   ]
  },
  {
   "cell_type": "markdown",
   "id": "1451eeb9-2879-42a5-8460-989c377213b3",
   "metadata": {},
   "source": [
    "# GENERATE A SAMPLE"
   ]
  },
  {
   "cell_type": "code",
   "execution_count": null,
   "id": "a92d75aa-e689-451b-9e7a-55d8308c2c6f",
   "metadata": {},
   "outputs": [],
   "source": [
    "# generate from the model\n",
    "context = torch.zeros((1, 1), dtype=torch.long, device=device)\n",
    "print(decode(m.generate(context, max_new_tokens=500)[0].tolist()))\n",
    "#open('more.txt', 'w').write(decode(m.generate(context, max_new_tokens=10000)[0].tolist()))"
   ]
  },
  {
   "cell_type": "code",
   "execution_count": null,
   "id": "fad92dd9-ecd0-4744-864a-074710bd4158",
   "metadata": {},
   "outputs": [],
   "source": []
  }
 ],
 "metadata": {
  "kernelspec": {
   "display_name": "Python 3 (ipykernel)",
   "language": "python",
   "name": "python3"
  },
  "language_info": {
   "codemirror_mode": {
    "name": "ipython",
    "version": 3
   },
   "file_extension": ".py",
   "mimetype": "text/x-python",
   "name": "python",
   "nbconvert_exporter": "python",
   "pygments_lexer": "ipython3",
   "version": "3.10.6"
  }
 },
 "nbformat": 4,
 "nbformat_minor": 5
}
